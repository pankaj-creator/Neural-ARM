{
 "cells": [
  {
   "cell_type": "markdown",
   "id": "cf4f8bbb",
   "metadata": {},
   "source": [
    "## ANN approach for ARM\n"
   ]
  },
  {
   "cell_type": "code",
   "execution_count": 1,
   "id": "5ab8a297",
   "metadata": {},
   "outputs": [],
   "source": [
    "\"\"\"\n",
    "@author: Dr. H K Patel, Pankaj, Aditya\n",
    "\"\"\"\n",
    "import time\n",
    "start = time.time()\n",
    "from sklearn.decomposition import NMF\n",
    "import numpy as np\n",
    "import pandas as pd\n",
    "import tensorflow as tf\n",
    "from sklearn.metrics import roc_auc_score\n",
    "\n",
    "import warnings\n",
    "warnings.simplefilter(\"ignore\", UserWarning)\n",
    "\n",
    "import matplotlib.pyplot as plt\n",
    "import seaborn as sns\n",
    "sns.set_style(\"whitegrid\")"
   ]
  },
  {
   "cell_type": "code",
   "execution_count": 2,
   "id": "0153ab0c",
   "metadata": {},
   "outputs": [
    {
     "data": {
      "text/html": [
       "<div>\n",
       "<style scoped>\n",
       "    .dataframe tbody tr th:only-of-type {\n",
       "        vertical-align: middle;\n",
       "    }\n",
       "\n",
       "    .dataframe tbody tr th {\n",
       "        vertical-align: top;\n",
       "    }\n",
       "\n",
       "    .dataframe thead th {\n",
       "        text-align: right;\n",
       "    }\n",
       "</style>\n",
       "<table border=\"1\" class=\"dataframe\">\n",
       "  <thead>\n",
       "    <tr style=\"text-align: right;\">\n",
       "      <th></th>\n",
       "      <th>1</th>\n",
       "      <th>2</th>\n",
       "      <th>3</th>\n",
       "      <th>4</th>\n",
       "      <th>5</th>\n",
       "      <th>6</th>\n",
       "      <th>7</th>\n",
       "      <th>8</th>\n",
       "      <th>9</th>\n",
       "      <th>10</th>\n",
       "      <th>11</th>\n",
       "      <th>12</th>\n",
       "      <th>13</th>\n",
       "      <th>14</th>\n",
       "      <th>15</th>\n",
       "      <th>16</th>\n",
       "      <th>17</th>\n",
       "      <th>18</th>\n",
       "      <th>19</th>\n",
       "      <th>20</th>\n",
       "    </tr>\n",
       "  </thead>\n",
       "  <tbody>\n",
       "    <tr>\n",
       "      <th>0</th>\n",
       "      <td>shrimp</td>\n",
       "      <td>almonds</td>\n",
       "      <td>avocado</td>\n",
       "      <td>vegetables mix</td>\n",
       "      <td>green grapes</td>\n",
       "      <td>whole weat flour</td>\n",
       "      <td>yams</td>\n",
       "      <td>cottage cheese</td>\n",
       "      <td>energy drink</td>\n",
       "      <td>tomato juice</td>\n",
       "      <td>low fat yogurt</td>\n",
       "      <td>green tea</td>\n",
       "      <td>honey</td>\n",
       "      <td>salad</td>\n",
       "      <td>mineral water</td>\n",
       "      <td>salmon</td>\n",
       "      <td>antioxydant juice</td>\n",
       "      <td>frozen smoothie</td>\n",
       "      <td>spinach</td>\n",
       "      <td>olive oil</td>\n",
       "    </tr>\n",
       "    <tr>\n",
       "      <th>1</th>\n",
       "      <td>burgers</td>\n",
       "      <td>meatballs</td>\n",
       "      <td>eggs</td>\n",
       "      <td>None</td>\n",
       "      <td>None</td>\n",
       "      <td>None</td>\n",
       "      <td>None</td>\n",
       "      <td>None</td>\n",
       "      <td>None</td>\n",
       "      <td>None</td>\n",
       "      <td>None</td>\n",
       "      <td>None</td>\n",
       "      <td>None</td>\n",
       "      <td>None</td>\n",
       "      <td>None</td>\n",
       "      <td>None</td>\n",
       "      <td>None</td>\n",
       "      <td>None</td>\n",
       "      <td>None</td>\n",
       "      <td>None</td>\n",
       "    </tr>\n",
       "    <tr>\n",
       "      <th>2</th>\n",
       "      <td>chutney</td>\n",
       "      <td>None</td>\n",
       "      <td>None</td>\n",
       "      <td>None</td>\n",
       "      <td>None</td>\n",
       "      <td>None</td>\n",
       "      <td>None</td>\n",
       "      <td>None</td>\n",
       "      <td>None</td>\n",
       "      <td>None</td>\n",
       "      <td>None</td>\n",
       "      <td>None</td>\n",
       "      <td>None</td>\n",
       "      <td>None</td>\n",
       "      <td>None</td>\n",
       "      <td>None</td>\n",
       "      <td>None</td>\n",
       "      <td>None</td>\n",
       "      <td>None</td>\n",
       "      <td>None</td>\n",
       "    </tr>\n",
       "    <tr>\n",
       "      <th>3</th>\n",
       "      <td>turkey</td>\n",
       "      <td>avocado</td>\n",
       "      <td>None</td>\n",
       "      <td>None</td>\n",
       "      <td>None</td>\n",
       "      <td>None</td>\n",
       "      <td>None</td>\n",
       "      <td>None</td>\n",
       "      <td>None</td>\n",
       "      <td>None</td>\n",
       "      <td>None</td>\n",
       "      <td>None</td>\n",
       "      <td>None</td>\n",
       "      <td>None</td>\n",
       "      <td>None</td>\n",
       "      <td>None</td>\n",
       "      <td>None</td>\n",
       "      <td>None</td>\n",
       "      <td>None</td>\n",
       "      <td>None</td>\n",
       "    </tr>\n",
       "    <tr>\n",
       "      <th>4</th>\n",
       "      <td>mineral water</td>\n",
       "      <td>milk</td>\n",
       "      <td>energy bar</td>\n",
       "      <td>whole wheat rice</td>\n",
       "      <td>green tea</td>\n",
       "      <td>None</td>\n",
       "      <td>None</td>\n",
       "      <td>None</td>\n",
       "      <td>None</td>\n",
       "      <td>None</td>\n",
       "      <td>None</td>\n",
       "      <td>None</td>\n",
       "      <td>None</td>\n",
       "      <td>None</td>\n",
       "      <td>None</td>\n",
       "      <td>None</td>\n",
       "      <td>None</td>\n",
       "      <td>None</td>\n",
       "      <td>None</td>\n",
       "      <td>None</td>\n",
       "    </tr>\n",
       "  </tbody>\n",
       "</table>\n",
       "</div>"
      ],
      "text/plain": [
       "               1          2           3                 4             5  \\\n",
       "0         shrimp    almonds     avocado    vegetables mix  green grapes   \n",
       "1        burgers  meatballs        eggs              None          None   \n",
       "2        chutney       None        None              None          None   \n",
       "3         turkey    avocado        None              None          None   \n",
       "4  mineral water       milk  energy bar  whole wheat rice     green tea   \n",
       "\n",
       "                  6     7               8             9            10  \\\n",
       "0  whole weat flour  yams  cottage cheese  energy drink  tomato juice   \n",
       "1              None  None            None          None          None   \n",
       "2              None  None            None          None          None   \n",
       "3              None  None            None          None          None   \n",
       "4              None  None            None          None          None   \n",
       "\n",
       "               11         12     13     14             15      16  \\\n",
       "0  low fat yogurt  green tea  honey  salad  mineral water  salmon   \n",
       "1            None       None   None   None           None    None   \n",
       "2            None       None   None   None           None    None   \n",
       "3            None       None   None   None           None    None   \n",
       "4            None       None   None   None           None    None   \n",
       "\n",
       "                  17               18       19         20  \n",
       "0  antioxydant juice  frozen smoothie  spinach  olive oil  \n",
       "1               None             None     None       None  \n",
       "2               None             None     None       None  \n",
       "3               None             None     None       None  \n",
       "4               None             None     None       None  "
      ]
     },
     "execution_count": 2,
     "metadata": {},
     "output_type": "execute_result"
    }
   ],
   "source": [
    "cols = ['1','2','3','4','5','6','7','8','9','10','11','12',\n",
    "        '13','14','15','16','17','18','19','20']\n",
    "       # '23','24','25','26','27','28','29','30','31','32']\n",
    "\n",
    "df = pd.read_csv(\"dataset/shopdata.csv\", sep = \",\", \n",
    "                 names = cols, engine = \"python\")\n",
    "data = np.array(df)\n",
    "df.head(5)"
   ]
  },
  {
   "cell_type": "code",
   "execution_count": 4,
   "id": "c5a06c29",
   "metadata": {},
   "outputs": [
    {
     "data": {
      "text/html": [
       "<div>\n",
       "<style scoped>\n",
       "    .dataframe tbody tr th:only-of-type {\n",
       "        vertical-align: middle;\n",
       "    }\n",
       "\n",
       "    .dataframe tbody tr th {\n",
       "        vertical-align: top;\n",
       "    }\n",
       "\n",
       "    .dataframe thead th {\n",
       "        text-align: right;\n",
       "    }\n",
       "</style>\n",
       "<table border=\"1\" class=\"dataframe\">\n",
       "  <thead>\n",
       "    <tr style=\"text-align: right;\">\n",
       "      <th></th>\n",
       "      <th>1</th>\n",
       "      <th>2</th>\n",
       "      <th>3</th>\n",
       "      <th>4</th>\n",
       "      <th>5</th>\n",
       "      <th>6</th>\n",
       "      <th>7</th>\n",
       "      <th>8</th>\n",
       "      <th>9</th>\n",
       "      <th>10</th>\n",
       "      <th>11</th>\n",
       "      <th>12</th>\n",
       "      <th>13</th>\n",
       "      <th>14</th>\n",
       "      <th>15</th>\n",
       "      <th>16</th>\n",
       "      <th>17</th>\n",
       "      <th>18</th>\n",
       "      <th>19</th>\n",
       "      <th>20</th>\n",
       "    </tr>\n",
       "  </thead>\n",
       "  <tbody>\n",
       "    <tr>\n",
       "      <th>count</th>\n",
       "      <td>7501</td>\n",
       "      <td>5747</td>\n",
       "      <td>4389</td>\n",
       "      <td>3345</td>\n",
       "      <td>2529</td>\n",
       "      <td>1864</td>\n",
       "      <td>1369</td>\n",
       "      <td>981</td>\n",
       "      <td>654</td>\n",
       "      <td>395</td>\n",
       "      <td>256</td>\n",
       "      <td>154</td>\n",
       "      <td>87</td>\n",
       "      <td>47</td>\n",
       "      <td>25</td>\n",
       "      <td>8</td>\n",
       "      <td>4</td>\n",
       "      <td>4</td>\n",
       "      <td>3</td>\n",
       "      <td>1</td>\n",
       "    </tr>\n",
       "    <tr>\n",
       "      <th>unique</th>\n",
       "      <td>115</td>\n",
       "      <td>117</td>\n",
       "      <td>115</td>\n",
       "      <td>114</td>\n",
       "      <td>110</td>\n",
       "      <td>106</td>\n",
       "      <td>102</td>\n",
       "      <td>98</td>\n",
       "      <td>88</td>\n",
       "      <td>80</td>\n",
       "      <td>66</td>\n",
       "      <td>50</td>\n",
       "      <td>43</td>\n",
       "      <td>28</td>\n",
       "      <td>19</td>\n",
       "      <td>8</td>\n",
       "      <td>3</td>\n",
       "      <td>3</td>\n",
       "      <td>3</td>\n",
       "      <td>1</td>\n",
       "    </tr>\n",
       "    <tr>\n",
       "      <th>top</th>\n",
       "      <td>mineral water</td>\n",
       "      <td>mineral water</td>\n",
       "      <td>mineral water</td>\n",
       "      <td>mineral water</td>\n",
       "      <td>green tea</td>\n",
       "      <td>french fries</td>\n",
       "      <td>green tea</td>\n",
       "      <td>green tea</td>\n",
       "      <td>green tea</td>\n",
       "      <td>green tea</td>\n",
       "      <td>low fat yogurt</td>\n",
       "      <td>green tea</td>\n",
       "      <td>green tea</td>\n",
       "      <td>green tea</td>\n",
       "      <td>magazines</td>\n",
       "      <td>magazines</td>\n",
       "      <td>frozen smoothie</td>\n",
       "      <td>protein bar</td>\n",
       "      <td>spinach</td>\n",
       "      <td>olive oil</td>\n",
       "    </tr>\n",
       "    <tr>\n",
       "      <th>freq</th>\n",
       "      <td>577</td>\n",
       "      <td>484</td>\n",
       "      <td>375</td>\n",
       "      <td>201</td>\n",
       "      <td>153</td>\n",
       "      <td>107</td>\n",
       "      <td>96</td>\n",
       "      <td>67</td>\n",
       "      <td>57</td>\n",
       "      <td>31</td>\n",
       "      <td>22</td>\n",
       "      <td>15</td>\n",
       "      <td>8</td>\n",
       "      <td>4</td>\n",
       "      <td>3</td>\n",
       "      <td>1</td>\n",
       "      <td>2</td>\n",
       "      <td>2</td>\n",
       "      <td>1</td>\n",
       "      <td>1</td>\n",
       "    </tr>\n",
       "  </tbody>\n",
       "</table>\n",
       "</div>"
      ],
      "text/plain": [
       "                    1              2              3              4          5  \\\n",
       "count            7501           5747           4389           3345       2529   \n",
       "unique            115            117            115            114        110   \n",
       "top     mineral water  mineral water  mineral water  mineral water  green tea   \n",
       "freq              577            484            375            201        153   \n",
       "\n",
       "                   6          7          8          9         10  \\\n",
       "count           1864       1369        981        654        395   \n",
       "unique           106        102         98         88         80   \n",
       "top     french fries  green tea  green tea  green tea  green tea   \n",
       "freq             107         96         67         57         31   \n",
       "\n",
       "                    11         12         13         14         15         16  \\\n",
       "count              256        154         87         47         25          8   \n",
       "unique              66         50         43         28         19          8   \n",
       "top     low fat yogurt  green tea  green tea  green tea  magazines  magazines   \n",
       "freq                22         15          8          4          3          1   \n",
       "\n",
       "                     17           18       19         20  \n",
       "count                 4            4        3          1  \n",
       "unique                3            3        3          1  \n",
       "top     frozen smoothie  protein bar  spinach  olive oil  \n",
       "freq                  2            2        1          1  "
      ]
     },
     "execution_count": 4,
     "metadata": {},
     "output_type": "execute_result"
    }
   ],
   "source": [
    "df.describe()"
   ]
  },
  {
   "cell_type": "code",
   "execution_count": 5,
   "id": "a10af319",
   "metadata": {},
   "outputs": [
    {
     "data": {
      "text/plain": [
       "(7501, 20)"
      ]
     },
     "execution_count": 5,
     "metadata": {},
     "output_type": "execute_result"
    }
   ],
   "source": [
    "df.shape"
   ]
  },
  {
   "cell_type": "code",
   "execution_count": 6,
   "id": "2e0fe9e2",
   "metadata": {},
   "outputs": [],
   "source": [
    "def get_unique_items(data):\n",
    "    ncol = data.shape[1]\n",
    "    items = set()\n",
    "    for c in range(ncol):\n",
    "        items = items.union(data[:,c])\n",
    "    items = np.array(list(items))\n",
    "    items = items[items != np.array(None)]\n",
    "\n",
    "    return np.unique(items)"
   ]
  },
  {
   "cell_type": "code",
   "execution_count": 7,
   "id": "f6bfe5fe",
   "metadata": {},
   "outputs": [],
   "source": [
    "def get_onehot_items(data,unique_items):\n",
    "    onehot_items = np.zeros((len(data),len(unique_items)),dtype = np.int)\n",
    "    for i, r in enumerate(data):\n",
    "        for j, c in enumerate(unique_items):\n",
    "            onehot_items[i,j] = int(c in r)\n",
    "            \n",
    "    return onehot_items\n"
   ]
  },
  {
   "cell_type": "code",
   "execution_count": 8,
   "id": "0e0815d1",
   "metadata": {},
   "outputs": [],
   "source": [
    "def get_items_from_ohe(ohe,unique_items):\n",
    "    return unique_items[np.flatnonzero(ohe)]"
   ]
  },
  {
   "cell_type": "code",
   "execution_count": 9,
   "id": "b1e7613e",
   "metadata": {},
   "outputs": [],
   "source": [
    "unique_items = get_unique_items(data)\n",
    "onehot_items = np.array(get_onehot_items(data, unique_items))\n",
    "\n",
    "\n",
    "n = 15\n",
    "item_counts = (onehot_items != 0).sum(0)\n",
    "items_max_args = item_counts.argsort()[-n:][::-1]\n",
    "ic = pd.DataFrame({\"Items\":unique_items[items_max_args], \"Frequency\":item_counts[items_max_args]})\n"
   ]
  },
  {
   "cell_type": "code",
   "execution_count": 10,
   "id": "21662a2f",
   "metadata": {},
   "outputs": [
    {
     "data": {
      "image/png": "[encoded data removed]",
      "text/plain": [
       "<Figure size 1152x576 with 1 Axes>"
      ]
     },
     "metadata": {},
     "output_type": "display_data"
    }
   ],
   "source": [
    "fig = plt.figure(figsize = (16,8))\n",
    "sns.barplot(x=\"Items\", y=\"Frequency\", data=ic, palette=sns.color_palette(\"Set2\", 10))\n",
    "plt.xlabel(\"Items\")\n",
    "plt.ylabel(\"Frequency\")\n",
    "plt.title(str(n) + \" Most frequent items in the dataset\")\n",
    "plt.show()"
   ]
  },
  {
   "cell_type": "code",
   "execution_count": 11,
   "id": "ec86ff5c",
   "metadata": {},
   "outputs": [
    {
     "name": "stdout",
     "output_type": "stream",
     "text": [
      "\n"
     ]
    }
   ],
   "source": [
    "train_test_split = np.random.rand(len(onehot_items)) < 0.80\n",
    "train_x = onehot_items[train_test_split]\n",
    "test_x = onehot_items[~train_test_split]\n",
    "print()\n"
   ]
  },
  {
   "cell_type": "code",
   "execution_count": 12,
   "id": "fda3a519",
   "metadata": {},
   "outputs": [],
   "source": [
    "train_validation_split = np.random.rand(len(train_x)) < 0.80\n",
    "validation_x = train_x[~train_validation_split]\n",
    "train_x = train_x[train_validation_split]"
   ]
  },
  {
   "cell_type": "code",
   "execution_count": 13,
   "id": "8bfc14f0",
   "metadata": {},
   "outputs": [],
   "source": [
    "def weight_variable(weight_name, weight_shape):\n",
    "    return tf.get_variable(name = \"weight_\" + weight_name,shape = weight_shape, \n",
    "            initializer = tf.contrib.layers.xavier_initializer()) "
   ]
  },
  {
   "cell_type": "code",
   "execution_count": 14,
   "id": "b22043be",
   "metadata": {},
   "outputs": [],
   "source": [
    "def bias_variable(bias_shape):\n",
    "    initial = tf.constant(0.1, shape = bias_shape)\n",
    "    return tf.Variable(initial)"
   ]
  },
  {
   "cell_type": "code",
   "execution_count": 15,
   "id": "ea731429",
   "metadata": {},
   "outputs": [],
   "source": [
    "def encoder(x):\n",
    "    l1 = tf.nn.softsign(tf.add(tf.matmul(x,e_weights_h1),e_biases_h1))\n",
    "    l2 = tf.nn.softsign(tf.add(tf.matmul(l1,e_weights_h2),e_biases_h2))\n",
    "    l3 = tf.nn.softsign(tf.add(tf.matmul(l2,e_weights_h3),e_biases_h3))\n",
    "    l4 = tf.nn.sigmoid(tf.add(tf.matmul(l3,e_weights_h4),e_biases_h4))\n",
    "    return l4"
   ]
  },
  {
   "cell_type": "code",
   "execution_count": 16,
   "id": "2813f621",
   "metadata": {},
   "outputs": [],
   "source": [
    "def decoder(x):\n",
    "    l1 = tf.nn.softsign(tf.add(tf.matmul(x,d_weights_h1),d_biases_h1))\n",
    "    l2 = tf.nn.softsign(tf.add(tf.matmul(l1,d_weights_h2),d_biases_h2))\n",
    "    l3 = tf.nn.softsign(tf.add(tf.matmul(l2,d_weights_h3),d_biases_h3))\n",
    "    l4 = tf.nn.sigmoid(tf.add(tf.matmul(l3,d_weights_h4),d_biases_h4))\n",
    "    return l4"
   ]
  },
  {
   "cell_type": "markdown",
   "id": "86e4bd6c",
   "metadata": {},
   "source": [
    "#### Terminology"
   ]
  },
  {
   "cell_type": "markdown",
   "id": "31efd5fd",
   "metadata": {},
   "source": [
    "input_dim = 169\n",
    "\n",
    "n_hidden_1 = 128\n",
    "n_hidden_2 = 64\n",
    "n_hidden_3 = 32\n",
    "n_hidden_4 = 16\n",
    "\n",
    "training_epochs = 30\n",
    "batch_size = 50\n",
    "total_batches = (train_x.shape[0] // batch_size)\n",
    "\n",
    "learning_rate = 0.00002\n",
    "keep_prob = 0.6\n",
    "l2_reg_rate = 0.00001\n"
   ]
  },
  {
   "cell_type": "code",
   "execution_count": 30,
   "id": "d2249406",
   "metadata": {},
   "outputs": [],
   "source": [
    "input_dim = 120\n",
    "\n",
    "n_hidden_1 = 108\n",
    "n_hidden_2 = 64\n",
    "n_hidden_3 = 32\n",
    "n_hidden_4 = 16\n",
    "\n",
    "training_epochs = 18\n",
    "batch_size = 50\n",
    "total_batches = (train_x.shape[0] // batch_size)\n",
    "\n",
    "learning_rate = 0.0002 #0.0002\n",
    "keep_prob = 0.8\n",
    "l2_reg_rate = 0.000001"
   ]
  },
  {
   "cell_type": "code",
   "execution_count": 18,
   "id": "9adb5d5f",
   "metadata": {},
   "outputs": [],
   "source": [
    "tf.reset_default_graph()"
   ]
  },
  {
   "cell_type": "code",
   "execution_count": 19,
   "id": "2619c459",
   "metadata": {},
   "outputs": [
    {
     "name": "stdout",
     "output_type": "stream",
     "text": [
      "\n",
      "WARNING: The TensorFlow contrib module will not be included in TensorFlow 2.0.\n",
      "For more information, please see:\n",
      "  * https://github.com/tensorflow/community/blob/master/rfcs/20180907-contrib-sunset.md\n",
      "  * https://github.com/tensorflow/addons\n",
      "If you depend on functionality not listed there, please file an issue.\n",
      "\n",
      "WARNING:tensorflow:From C:\\Users\\Pankaj\\anaconda3\\envs\\Project\\lib\\site-packages\\tensorflow\\python\\keras\\layers\\core.py:143: calling dropout (from tensorflow.python.ops.nn_ops) with keep_prob is deprecated and will be removed in a future version.\n",
      "Instructions for updating:\n",
      "Please use `rate` instead of `keep_prob`. Rate should be set to `rate = 1 - keep_prob`.\n",
      "WARNING:tensorflow:From C:\\Users\\Pankaj\\anaconda3\\envs\\Project\\lib\\site-packages\\tensorflow\\python\\ops\\control_flow_ops.py:423: colocate_with (from tensorflow.python.framework.ops) is deprecated and will be removed in a future version.\n",
      "Instructions for updating:\n",
      "Colocations handled automatically by placer.\n",
      "X_drop Tensor(\"Dropout/cond/Merge:0\", shape=(?, 120), dtype=float32)\n"
     ]
    }
   ],
   "source": [
    "is_training = tf.placeholder_with_default(False, shape = ())\n",
    "X = tf.placeholder(tf.float32, shape=[None,input_dim])\n",
    "X_drop = tf.contrib.layers.dropout(X, keep_prob, is_training = is_training)\n",
    "#X_drop = tf.contrib.layers.dropout(X, keep_prob, noise_shape=None, is_training=True, outputs_collections=None, scope=None, seed=None )\n",
    "print(\"X_drop\", X_drop)"
   ]
  },
  {
   "cell_type": "markdown",
   "id": "14536396",
   "metadata": {},
   "source": [
    "##### --------------------- Encoder Variables --------------- ####"
   ]
  },
  {
   "cell_type": "code",
   "execution_count": 20,
   "id": "b7e5cd6c",
   "metadata": {},
   "outputs": [
    {
     "data": {
      "text/plain": [
       "<tf.Variable 'Variable_3:0' shape=(16,) dtype=float32_ref>"
      ]
     },
     "execution_count": 20,
     "metadata": {},
     "output_type": "execute_result"
    }
   ],
   "source": [
    "e_weights_h1 = weight_variable(\"el1\",[input_dim, n_hidden_1])\n",
    "e_biases_h1 = bias_variable([n_hidden_1])\n",
    "\n",
    "e_weights_h2 = weight_variable(\"el2\",[n_hidden_1, n_hidden_2])\n",
    "e_biases_h2 = bias_variable([n_hidden_2])\n",
    "\n",
    "e_weights_h3 = weight_variable(\"el3\",[n_hidden_2, n_hidden_3])\n",
    "e_biases_h3 = bias_variable([n_hidden_3])\n",
    "\n",
    "e_weights_h4 = weight_variable(\"el4\",[n_hidden_3, n_hidden_4])\n",
    "e_biases_h4 = bias_variable([n_hidden_4])\n",
    "e_biases_h4"
   ]
  },
  {
   "cell_type": "markdown",
   "id": "ec1ed337",
   "metadata": {},
   "source": [
    "\n",
    "\n",
    "#### --------------------- Decoder Variables --------------- ####"
   ]
  },
  {
   "cell_type": "code",
   "execution_count": 21,
   "id": "8ae652f9",
   "metadata": {},
   "outputs": [],
   "source": [
    "d_weights_h1 = weight_variable(\"dl1\",[n_hidden_4, n_hidden_3])\n",
    "d_biases_h1 = bias_variable([n_hidden_3])\n",
    "\n",
    "d_weights_h2 = weight_variable(\"dl2\",[n_hidden_3, n_hidden_2])\n",
    "d_biases_h2 = bias_variable([n_hidden_2])\n",
    "\n",
    "d_weights_h3 = weight_variable(\"dl3\",[n_hidden_2, n_hidden_1])\n",
    "d_biases_h3 = bias_variable([n_hidden_1])\n",
    "\n",
    "d_weights_h4 = weight_variable(\"dl4\",[n_hidden_1, input_dim])\n",
    "d_biases_h4 = bias_variable([input_dim])"
   ]
  },
  {
   "cell_type": "code",
   "execution_count": 22,
   "id": "12d81d76",
   "metadata": {},
   "outputs": [
    {
     "name": "stdout",
     "output_type": "stream",
     "text": [
      "HHHH== Tensor(\"Sigmoid:0\", shape=(?, 16), dtype=float32)\n",
      "MMMM== Tensor(\"Sigmoid_1:0\", shape=(?, 120), dtype=float32)\n"
     ]
    }
   ],
   "source": [
    "encoded = encoder(X_drop)\n",
    "print(\"HHHH==\",encoded)\n",
    "decoded = decoder(encoded)\n",
    "print(\"MMMM==\", decoded) "
   ]
  },
  {
   "cell_type": "code",
   "execution_count": 23,
   "id": "dfcc8635",
   "metadata": {},
   "outputs": [],
   "source": [
    "regularizer = tf.contrib.layers.l2_regularizer(l2_reg_rate)\n",
    "reg_loss = regularizer(e_weights_h1) + regularizer(e_weights_h2) + regularizer(e_weights_h3) + regularizer(e_weights_h4) \n",
    "cost_function = -tf.reduce_mean(((X * tf.log(decoded)) + ((1 - X) * tf.log(1 - decoded)))) + reg_loss\n",
    "\n",
    "optimizer = tf.train.AdamOptimizer(learning_rate).minimize(cost_function)"
   ]
  },
  {
   "cell_type": "code",
   "execution_count": 24,
   "id": "41a5e80c",
   "metadata": {},
   "outputs": [
    {
     "name": "stdout",
     "output_type": "stream",
     "text": [
      "Epoch    Tr. Loss   Val. Loss\n",
      "1 \t 0.4074302   0.40696013\n",
      "2 \t 0.17366308   0.17239468\n",
      "3 \t 0.13864875   0.13711509\n",
      "4 \t 0.13038184   0.12876682\n",
      "5 \t 0.12744558   0.1257987\n",
      "6 \t 0.12615661   0.124493465\n",
      "7 \t 0.12551373   0.1238406\n",
      "8 \t 0.12516323   0.123483434\n",
      "9 \t 0.124958776   0.12327427\n",
      "10 \t 0.12483269   0.12314481\n",
      "11 \t 0.12475098   0.12306073\n",
      "12 \t 0.124695234   0.12300336\n",
      "13 \t 0.12465454   0.12296172\n",
      "14 \t 0.12462046   0.12292759\n",
      "15 \t 0.124572985   0.12288438\n",
      "16 \t 0.1217455   0.12020362\n",
      "17 \t 0.11938457   0.11786135\n",
      "18 \t 0.1183222   0.11680868\n",
      "Training ROC AUC:  0.8104\n",
      "Validation ROC AUC:  0.8061\n",
      "Test ROC AUC:  0.8084 \n",
      "\n",
      "ttt== 1501\n"
     ]
    }
   ],
   "source": [
    "with tf.Session() as session:\n",
    "    Tr_loss=[]\n",
    "    Val_loss=[]\n",
    "    tf.global_variables_initializer().run()\n",
    "    print(\"Epoch\",\"  \",\"Tr. Loss\",\" \",\"Val. Loss\")\n",
    "    for epoch in range(training_epochs):\n",
    "        for b in range(total_batches):\n",
    "            offset = (b * batch_size) % (train_x.shape[0] - batch_size)\n",
    "            batch_x = train_x[offset:(offset + batch_size), :] \n",
    "            _, c = session.run([optimizer, cost_function],feed_dict={X: batch_x, is_training: True})\n",
    "    \n",
    "        tr_c = session.run(cost_function,feed_dict={X: train_x, is_training: False})\n",
    "        val_c = session.run(cost_function,feed_dict={X: validation_x, is_training: False})\n",
    "        print(epoch+1,\"\\t\",tr_c,\" \",val_c)\n",
    "        Tr_loss.append(tr_c)\n",
    "        Val_loss.append(val_c)\n",
    "    \n",
    "    tr_p = session.run(decoded,feed_dict={X: train_x, is_training: False})\n",
    "    roc_auc = roc_auc_score(train_x,tr_p,average = \"samples\")\n",
    "    print(\"Training ROC AUC: \", round(roc_auc,4))\n",
    "\n",
    "    val_p = session.run(decoded,feed_dict={X: validation_x, is_training: False})\n",
    "    roc_auc = roc_auc_score(validation_x,val_p,average = \"samples\")\n",
    "    print(\"Validation ROC AUC: \", round(roc_auc,4))\n",
    "    \n",
    "    ts_p = session.run(decoded,feed_dict={X: test_x, is_training: False})\n",
    "    roc_auc = roc_auc_score(test_x,ts_p,average = \"samples\")\n",
    "    print(\"Test ROC AUC: \", round(roc_auc,4),\"\\n\")\n",
    "    \n",
    "    item_preds = session.run(decoded,feed_dict={X: test_x.reshape(-1,120), is_training: False})\n",
    "    print(\"ttt==\",len(item_preds))\n",
    "    item_preds[item_preds >= 0.05] = 1\n",
    "    item_preds[item_preds < 0.05] = 0\n",
    "    "
   ]
  },
  {
   "cell_type": "code",
   "execution_count": 25,
   "id": "02b7ffb4",
   "metadata": {},
   "outputs": [
    {
     "data": {
      "image/png": "[encoded data removed]",
      "text/plain": [
       "<Figure size 432x288 with 1 Axes>"
      ]
     },
     "metadata": {},
     "output_type": "display_data"
    }
   ],
   "source": [
    "plt.plot(Tr_loss,'b*', Val_loss, 'y*')\n",
    "plt.show()"
   ]
  },
  {
   "cell_type": "code",
   "execution_count": 26,
   "id": "701bafac",
   "metadata": {},
   "outputs": [
    {
     "name": "stdout",
     "output_type": "stream",
     "text": [
      "Frequent item(s):  ['avocado' 'brownies' 'burgers' 'butter' 'cake' 'champagne' 'chicken'\n",
      " 'chocolate' 'cookies' 'cooking oil' 'cottage cheese' 'eggs' 'escalope'\n",
      " 'french fries' 'fresh bread' 'frozen smoothie' 'frozen vegetables'\n",
      " 'grated cheese' 'green tea' 'ground beef' 'herb & pepper' 'honey'\n",
      " 'hot dogs' 'low fat yogurt' 'milk' 'mineral water' 'olive oil' 'pancakes'\n",
      " 'salmon' 'shrimp' 'soup' 'spaghetti' 'tomato juice' 'tomatoes' 'turkey'\n",
      " 'whole wheat pasta' 'whole wheat rice' 'yogurt cake']\n"
     ]
    }
   ],
   "source": [
    "\"\"\"   \n",
    "i = 100\n",
    "#print(\"Items in basket: \",get_items_from_ohe(test_x[i],unique_items))\n",
    "print(\"Recommended item(s): \",get_items_from_ohe(item_preds[i],unique_items))\n",
    "\"\"\"\n",
    "model = NMF(n_components=100, init='random', random_state=0)\n",
    "#model = NMF(n_components=7501, init='random', random_state=0)\n",
    "transation_w = model.fit_transform(item_preds)\n",
    "items_h = model.components_\n",
    "\n",
    "#get_items_from_ohe(items_h[1],unique_items)\n",
    "\n",
    "print(\"Frequent item(s): \",get_items_from_ohe(items_h[0],unique_items))"
   ]
  },
  {
   "cell_type": "code",
   "execution_count": 27,
   "id": "c50b646e",
   "metadata": {},
   "outputs": [
    {
     "name": "stdout",
     "output_type": "stream",
     "text": [
      "1 {yogurt cake}=>{whole wheat rice} support=0.13 confidence=0.06 lift=0.01 conviction=-3.62\n",
      "2 {yogurt cake}=>{whole wheat rice} support=0.13 confidence=0.06 lift=0.01 conviction=-3.62\n",
      "3 {whole wheat rice}=>{turkey} support=0.53 confidence=0.12 lift=0.03 conviction=-4.2\n",
      "4 {whole wheat rice}=>{turkey} support=0.53 confidence=0.12 lift=0.03 conviction=-4.2\n",
      "5 {yogurt cake}=>{whole wheat rice} support=0.13 confidence=0.06 lift=0.01 conviction=-3.62\n",
      "6 {yogurt cake}=>{whole wheat rice} support=0.13 confidence=0.06 lift=0.01 conviction=-3.62\n",
      "7 {yogurt cake}=>{whole wheat rice} support=0.13 confidence=0.06 lift=0.01 conviction=-3.62\n",
      "8 {strawberries}=>{spaghetti} support=0.31 confidence=0.19 lift=0.01 conviction=-14.96\n",
      "9 {yogurt cake}=>{whole wheat rice} support=0.13 confidence=0.06 lift=0.01 conviction=-3.62\n",
      "10 {yogurt cake}=>{whole wheat rice} support=0.13 confidence=0.06 lift=0.01 conviction=-3.62\n",
      "11 {spaghetti}=>{pancakes} support=1.89 confidence=0.14 lift=0.02 conviction=-7.17\n",
      "12 {yogurt cake}=>{vegetables mix} support=0.04 confidence=0.02 lift=0.01 conviction=-0.95\n",
      "13 {spaghetti}=>{pancakes} support=1.89 confidence=0.14 lift=0.02 conviction=-7.17\n",
      "14 {yogurt cake}=>{whole wheat rice} support=0.13 confidence=0.06 lift=0.01 conviction=-3.62\n",
      "15 {spaghetti}=>{pancakes} support=1.89 confidence=0.14 lift=0.02 conviction=-7.17\n",
      "16 {yogurt cake}=>{vegetables mix} support=0.04 confidence=0.02 lift=0.01 conviction=-0.95\n",
      "17 {vegetables mix}=>{soup} support=0.09 confidence=0.05 lift=0.01 conviction=-2.93\n",
      "18 {whole wheat rice}=>{turkey} support=0.53 confidence=0.12 lift=0.03 conviction=-4.2\n",
      "19 {spaghetti}=>{pancakes} support=1.89 confidence=0.14 lift=0.02 conviction=-7.17\n",
      "20 {whole wheat rice}=>{turkey} support=0.53 confidence=0.12 lift=0.03 conviction=-4.2\n",
      "21 {whole wheat rice}=>{turkey} support=0.53 confidence=0.12 lift=0.03 conviction=-4.2\n",
      "22 {tomatoes}=>{shrimp} support=0.84 confidence=0.16 lift=0.03 conviction=-5.21\n",
      "23 {whole wheat rice}=>{whole wheat pasta} support=0.15 confidence=0.03 lift=0.02 conviction=-1.25\n",
      "24 {whole wheat pasta}=>{turkey} support=0.13 confidence=0.06 lift=0.01 conviction=-3.92\n",
      "25 {yogurt cake}=>{whole wheat rice} support=0.13 confidence=0.06 lift=0.01 conviction=-3.62\n",
      "26 {whole wheat rice}=>{spaghetti} support=1.06 confidence=0.24 lift=0.02 conviction=-15.9\n",
      "27 {yogurt cake}=>{whole wheat rice} support=0.13 confidence=0.06 lift=0.01 conviction=-3.62\n",
      "28 {whole wheat rice}=>{turkey} support=0.53 confidence=0.12 lift=0.03 conviction=-4.2\n",
      "29 {whole wheat rice}=>{turkey} support=0.53 confidence=0.12 lift=0.03 conviction=-4.2\n",
      "30 {whole wheat rice}=>{turkey} support=0.53 confidence=0.12 lift=0.03 conviction=-4.2\n",
      "31 {spaghetti}=>{shrimp} support=1.59 confidence=0.12 lift=0.02 conviction=-4.96\n",
      "32 {pancakes}=>{mineral water} support=2.53 confidence=0.35 lift=0.02 conviction=-26.16\n",
      "33 {yogurt cake}=>{whole wheat rice} support=0.13 confidence=0.06 lift=0.01 conviction=-3.62\n",
      "34 {spaghetti}=>{pancakes} support=1.89 confidence=0.14 lift=0.02 conviction=-7.17\n",
      "35 {yogurt cake}=>{whole wheat rice} support=0.13 confidence=0.06 lift=0.01 conviction=-3.62\n",
      "36 {whole wheat rice}=>{turkey} support=0.53 confidence=0.12 lift=0.03 conviction=-4.2\n",
      "37 {turkey}=>{spaghetti} support=1.24 confidence=0.26 lift=0.02 conviction=-16.39\n",
      "38 {tomatoes}=>{pancakes} support=0.74 confidence=0.14 lift=0.02 conviction=-7.16\n",
      "39 {yogurt cake}=>{whole wheat rice} support=0.13 confidence=0.06 lift=0.01 conviction=-3.62\n",
      "40 {yogurt cake}=>{whole wheat rice} support=0.13 confidence=0.06 lift=0.01 conviction=-3.62\n",
      "41 {whole wheat rice}=>{turkey} support=0.53 confidence=0.12 lift=0.03 conviction=-4.2\n",
      "42 {yogurt cake}=>{whole wheat rice} support=0.13 confidence=0.06 lift=0.01 conviction=-3.62\n",
      "43 {whole wheat rice}=>{vegetables mix} support=0.15 confidence=0.03 lift=0.02 conviction=-0.96\n",
      "44 {turkey}=>{tomatoes} support=0.49 confidence=0.1 lift=0.02 conviction=-4.61\n",
      "45 {yogurt cake}=>{whole wheat rice} support=0.13 confidence=0.06 lift=0.01 conviction=-3.62\n",
      "46 {spaghetti}=>{soup} support=1.07 confidence=0.08 lift=0.02 conviction=-3.04\n",
      "47 {yogurt cake}=>{whole wheat rice} support=0.13 confidence=0.06 lift=0.01 conviction=-3.62\n",
      "48 {turkey}=>{tomatoes} support=0.49 confidence=0.1 lift=0.02 conviction=-4.61\n",
      "49 {yogurt cake}=>{whole wheat rice} support=0.13 confidence=0.06 lift=0.01 conviction=-3.62\n",
      "50 {tomatoes}=>{spaghetti} support=1.57 confidence=0.31 lift=0.02 conviction=-17.38\n",
      "51 {tomatoes}=>{spaghetti} support=1.57 confidence=0.31 lift=0.02 conviction=-17.38\n",
      "52 {yogurt cake}=>{whole wheat rice} support=0.13 confidence=0.06 lift=0.01 conviction=-3.62\n",
      "53 {yogurt cake}=>{whole wheat pasta} support=0.05 confidence=0.02 lift=0.01 conviction=-1.24\n",
      "54 {yogurt cake}=>{whole wheat rice} support=0.13 confidence=0.06 lift=0.01 conviction=-3.62\n",
      "55 {whole wheat rice}=>{turkey} support=0.53 confidence=0.12 lift=0.03 conviction=-4.2\n",
      "56 {whole wheat rice}=>{turkey} support=0.53 confidence=0.12 lift=0.03 conviction=-4.2\n",
      "57 {whole wheat rice}=>{turkey} support=0.53 confidence=0.12 lift=0.03 conviction=-4.2\n",
      "58 {turkey}=>{spaghetti} support=1.24 confidence=0.26 lift=0.02 conviction=-16.39\n",
      "59 {yogurt cake}=>{vegetables mix} support=0.04 confidence=0.02 lift=0.01 conviction=-0.95\n",
      "60 {yogurt cake}=>{whole wheat pasta} support=0.05 confidence=0.02 lift=0.01 conviction=-1.24\n",
      "61 {whole wheat rice}=>{turkey} support=0.53 confidence=0.12 lift=0.03 conviction=-4.2\n",
      "62 {spaghetti}=>{pancakes} support=1.89 confidence=0.14 lift=0.02 conviction=-7.17\n",
      "63 {yogurt cake}=>{whole wheat rice} support=0.13 confidence=0.06 lift=0.01 conviction=-3.62\n",
      "64 {spaghetti}=>{pancakes} support=1.89 confidence=0.14 lift=0.02 conviction=-7.17\n",
      "65 {whole wheat rice}=>{turkey} support=0.53 confidence=0.12 lift=0.03 conviction=-4.2\n",
      "66 {yogurt cake}=>{turkey} support=0.11 confidence=0.05 lift=0.01 conviction=-3.9\n",
      "67 {turkey}=>{tomato juice} support=0.24 confidence=0.05 lift=0.02 conviction=-1.35\n",
      "68 {whole wheat rice}=>{turkey} support=0.53 confidence=0.12 lift=0.03 conviction=-4.2\n",
      "69 {spaghetti}=>{soup} support=1.07 confidence=0.08 lift=0.02 conviction=-3.04\n",
      "70 {yogurt cake}=>{whole wheat rice} support=0.13 confidence=0.06 lift=0.01 conviction=-3.62\n",
      "71 {yogurt cake}=>{whole wheat rice} support=0.13 confidence=0.06 lift=0.01 conviction=-3.62\n",
      "72 {yogurt cake}=>{whole wheat rice} support=0.13 confidence=0.06 lift=0.01 conviction=-3.62\n",
      "73 {whole wheat rice}=>{turkey} support=0.53 confidence=0.12 lift=0.03 conviction=-4.2\n",
      "74 {yogurt cake}=>{turkey} support=0.11 confidence=0.05 lift=0.01 conviction=-3.9\n",
      "75 {white wine}=>{vegetables mix} support=0.01 confidence=0.01 lift=0.0 conviction=-0.94\n",
      "76 {spaghetti}=>{shrimp} support=1.59 confidence=0.12 lift=0.02 conviction=-4.96\n",
      "77 {pancakes}=>{mineral water} support=2.53 confidence=0.35 lift=0.02 conviction=-26.16\n",
      "78 {yogurt cake}=>{spaghetti} support=0.29 confidence=0.14 lift=0.01 conviction=-14.05\n",
      "79 {turkey}=>{pancakes} support=0.72 confidence=0.15 lift=0.02 conviction=-7.24\n",
      "80 {yogurt cake}=>{whole wheat rice} support=0.13 confidence=0.06 lift=0.01 conviction=-3.62\n",
      "81 {turkey}=>{spaghetti} support=1.24 confidence=0.26 lift=0.02 conviction=-16.39\n",
      "82 {whole wheat rice}=>{turkey} support=0.53 confidence=0.12 lift=0.03 conviction=-4.2\n",
      "83 {whole wheat rice}=>{turkey} support=0.53 confidence=0.12 lift=0.03 conviction=-4.2\n",
      "84 {turkey}=>{spaghetti} support=1.24 confidence=0.26 lift=0.02 conviction=-16.39\n",
      "85 {yogurt cake}=>{whole wheat rice} support=0.13 confidence=0.06 lift=0.01 conviction=-3.62\n",
      "86 {yogurt cake}=>{vegetables mix} support=0.04 confidence=0.02 lift=0.01 conviction=-0.95\n",
      "87 {spaghetti}=>{pancakes} support=1.89 confidence=0.14 lift=0.02 conviction=-7.17\n",
      "88 {pancakes}=>{mineral water} support=2.53 confidence=0.35 lift=0.02 conviction=-26.16\n",
      "89 {yogurt cake}=>{whole wheat pasta} support=0.05 confidence=0.02 lift=0.01 conviction=-1.24\n",
      "90 {turkey}=>{tomatoes} support=0.49 confidence=0.1 lift=0.02 conviction=-4.61\n",
      "91 {whole wheat rice}=>{turkey} support=0.53 confidence=0.12 lift=0.03 conviction=-4.2\n",
      "92 {spaghetti}=>{pancakes} support=1.89 confidence=0.14 lift=0.02 conviction=-7.17\n",
      "93 {yogurt cake}=>{whole wheat pasta} support=0.05 confidence=0.02 lift=0.01 conviction=-1.24\n",
      "94 {yogurt cake}=>{whole wheat rice} support=0.13 confidence=0.06 lift=0.01 conviction=-3.62\n",
      "95 {yogurt cake}=>{vegetables mix} support=0.04 confidence=0.02 lift=0.01 conviction=-0.95\n",
      "96 {yogurt cake}=>{turkey} support=0.11 confidence=0.05 lift=0.01 conviction=-3.9\n",
      "97 {whole wheat rice}=>{turkey} support=0.53 confidence=0.12 lift=0.03 conviction=-4.2\n",
      "98 {yogurt cake}=>{whole wheat pasta} support=0.05 confidence=0.02 lift=0.01 conviction=-1.24\n",
      "99 {yogurt cake}=>{whole wheat pasta} support=0.05 confidence=0.02 lift=0.01 conviction=-1.24\n",
      "100 {yogurt cake}=>{whole wheat pasta} support=0.05 confidence=0.02 lift=0.01 conviction=-1.24\n"
     ]
    }
   ],
   "source": [
    "total_transection=100 #total_transection\n",
    "for i in range(total_transection):\n",
    "    xx=np.asarray(np.nonzero(items_h[i]))\n",
    "    [m,n]=(np.asarray(np.nonzero(items_h[i]))).shape\n",
    "    support_A_B=len(np.intersect1d(np.nonzero(onehot_items[:,xx[0,n-1]]),np.nonzero(onehot_items[:,xx[0,n-2]])))/total_transection\n",
    "    #print(\"{\" + str(unique_items[xx[0,n-1]]) + \"}\" +\"=>\" \"{\" + str(unique_items[xx[0,n-2]]) + \"}\")\n",
    "    [xxxx,sup_A]=(np.asarray(np.nonzero(onehot_items[:,xx[0,n-1]]))).shape\n",
    "    [xxxx,sup_B]=(np.asarray(np.nonzero(onehot_items[:,xx[0,n-2]]))).shape\n",
    "    support_A=sup_A/total_transection\n",
    "    support_B=sup_B/total_transection\n",
    "    confidence_A_B=support_A_B / (support_A)\n",
    "    confidence_B_A=support_A_B / (support_B)\n",
    "    #lift and conviction\n",
    "    lift_A_B=confidence_A_B / support_B\n",
    "    conviction_A_B=(1-support_B)/(1-confidence_A_B)\n",
    "    print(i+1, \"{\" + str(unique_items[xx[0,n-1]]) + \"}\" +\"=>\" \"{\" + str(unique_items[xx[0,n-2]]) + \"}\"+\" \"+ \"support=\"+ str(round(support_A_B,2)) +\" \"+ \"confidence=\" + str(round(confidence_A_B,2))  +\" \"+ \"lift=\" + str(round(lift_A_B,2))  +\" \"+ \"conviction=\" + str(round(conviction_A_B,2)) )\n"
   ]
  },
  {
   "cell_type": "code",
   "execution_count": 28,
   "id": "fd182ec5",
   "metadata": {},
   "outputs": [
    {
     "name": "stdout",
     "output_type": "stream",
     "text": [
      "0\n"
     ]
    }
   ],
   "source": [
    "count=0\n",
    "for i in range(100):\n",
    "    if((round(support_A_B,2))>=0.53):\n",
    "        count+=1\n",
    "print(count)\n"
   ]
  },
  {
   "cell_type": "code",
   "execution_count": 29,
   "id": "a9004abb",
   "metadata": {},
   "outputs": [
    {
     "name": "stdout",
     "output_type": "stream",
     "text": [
      "Time consumed in working:  104.67358660697937\n"
     ]
    }
   ],
   "source": [
    "end = time.time()\n",
    "print(\"Time consumed in working: \",end - start)"
   ]
  },
  {
   "cell_type": "code",
   "execution_count": null,
   "id": "317f207f",
   "metadata": {},
   "outputs": [],
   "source": []
  },
  {
   "cell_type": "code",
   "execution_count": null,
   "id": "5453b47b",
   "metadata": {},
   "outputs": [],
   "source": []
  }
 ],
 "metadata": {
  "kernelspec": {
   "display_name": "Python 3",
   "language": "python",
   "name": "python3"
  },
  "language_info": {
   "codemirror_mode": {
    "name": "ipython",
    "version": 3
   },
   "file_extension": ".py",
   "mimetype": "text/x-python",
   "name": "python",
   "nbconvert_exporter": "python",
   "pygments_lexer": "ipython3",
   "version": "3.6.13"
  }
 },
 "nbformat": 4,
 "nbformat_minor": 5
}

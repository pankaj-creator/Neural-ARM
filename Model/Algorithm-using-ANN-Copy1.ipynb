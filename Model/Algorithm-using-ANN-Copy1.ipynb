{
 "cells": [
  {
   "cell_type": "markdown",
   "id": "cf4f8bbb",
   "metadata": {},
   "source": [
    "## ANN approach for ARM\n"
   ]
  },
  {
   "cell_type": "code",
   "execution_count": 1,
   "id": "5ab8a297",
   "metadata": {},
   "outputs": [],
   "source": [
    "\"\"\"\n",
    "@author: Dr. H K Patel, Pankaj, Aditya\n",
    "\"\"\"\n",
    "import time\n",
    "start = time.time()\n",
    "from sklearn.decomposition import NMF\n",
    "import numpy as np\n",
    "import pandas as pd\n",
    "import tensorflow as tf\n",
    "from sklearn.metrics import roc_auc_score\n",
    "\n",
    "import warnings\n",
    "warnings.simplefilter(\"ignore\", UserWarning)\n",
    "\n",
    "import matplotlib.pyplot as plt\n",
    "import seaborn as sns\n",
    "sns.set_style(\"whitegrid\")"
   ]
  },
  {
   "cell_type": "code",
   "execution_count": 2,
   "id": "0153ab0c",
   "metadata": {},
   "outputs": [
    {
     "data": {
      "text/html": [
       "<div>\n",
       "<style scoped>\n",
       "    .dataframe tbody tr th:only-of-type {\n",
       "        vertical-align: middle;\n",
       "    }\n",
       "\n",
       "    .dataframe tbody tr th {\n",
       "        vertical-align: top;\n",
       "    }\n",
       "\n",
       "    .dataframe thead th {\n",
       "        text-align: right;\n",
       "    }\n",
       "</style>\n",
       "<table border=\"1\" class=\"dataframe\">\n",
       "  <thead>\n",
       "    <tr style=\"text-align: right;\">\n",
       "      <th></th>\n",
       "      <th>1</th>\n",
       "      <th>2</th>\n",
       "      <th>3</th>\n",
       "      <th>4</th>\n",
       "      <th>5</th>\n",
       "      <th>6</th>\n",
       "      <th>7</th>\n",
       "      <th>8</th>\n",
       "      <th>9</th>\n",
       "      <th>10</th>\n",
       "      <th>11</th>\n",
       "      <th>12</th>\n",
       "      <th>13</th>\n",
       "      <th>14</th>\n",
       "      <th>15</th>\n",
       "      <th>16</th>\n",
       "      <th>17</th>\n",
       "      <th>18</th>\n",
       "      <th>19</th>\n",
       "      <th>20</th>\n",
       "    </tr>\n",
       "  </thead>\n",
       "  <tbody>\n",
       "    <tr>\n",
       "      <th>0</th>\n",
       "      <td>shrimp</td>\n",
       "      <td>almonds</td>\n",
       "      <td>avocado</td>\n",
       "      <td>vegetables mix</td>\n",
       "      <td>green grapes</td>\n",
       "      <td>whole weat flour</td>\n",
       "      <td>yams</td>\n",
       "      <td>cottage cheese</td>\n",
       "      <td>energy drink</td>\n",
       "      <td>tomato juice</td>\n",
       "      <td>low fat yogurt</td>\n",
       "      <td>green tea</td>\n",
       "      <td>honey</td>\n",
       "      <td>salad</td>\n",
       "      <td>mineral water</td>\n",
       "      <td>salmon</td>\n",
       "      <td>antioxydant juice</td>\n",
       "      <td>frozen smoothie</td>\n",
       "      <td>spinach</td>\n",
       "      <td>olive oil</td>\n",
       "    </tr>\n",
       "    <tr>\n",
       "      <th>1</th>\n",
       "      <td>burgers</td>\n",
       "      <td>meatballs</td>\n",
       "      <td>eggs</td>\n",
       "      <td>None</td>\n",
       "      <td>None</td>\n",
       "      <td>None</td>\n",
       "      <td>None</td>\n",
       "      <td>None</td>\n",
       "      <td>None</td>\n",
       "      <td>None</td>\n",
       "      <td>None</td>\n",
       "      <td>None</td>\n",
       "      <td>None</td>\n",
       "      <td>None</td>\n",
       "      <td>None</td>\n",
       "      <td>None</td>\n",
       "      <td>None</td>\n",
       "      <td>None</td>\n",
       "      <td>None</td>\n",
       "      <td>None</td>\n",
       "    </tr>\n",
       "    <tr>\n",
       "      <th>2</th>\n",
       "      <td>chutney</td>\n",
       "      <td>None</td>\n",
       "      <td>None</td>\n",
       "      <td>None</td>\n",
       "      <td>None</td>\n",
       "      <td>None</td>\n",
       "      <td>None</td>\n",
       "      <td>None</td>\n",
       "      <td>None</td>\n",
       "      <td>None</td>\n",
       "      <td>None</td>\n",
       "      <td>None</td>\n",
       "      <td>None</td>\n",
       "      <td>None</td>\n",
       "      <td>None</td>\n",
       "      <td>None</td>\n",
       "      <td>None</td>\n",
       "      <td>None</td>\n",
       "      <td>None</td>\n",
       "      <td>None</td>\n",
       "    </tr>\n",
       "    <tr>\n",
       "      <th>3</th>\n",
       "      <td>turkey</td>\n",
       "      <td>avocado</td>\n",
       "      <td>None</td>\n",
       "      <td>None</td>\n",
       "      <td>None</td>\n",
       "      <td>None</td>\n",
       "      <td>None</td>\n",
       "      <td>None</td>\n",
       "      <td>None</td>\n",
       "      <td>None</td>\n",
       "      <td>None</td>\n",
       "      <td>None</td>\n",
       "      <td>None</td>\n",
       "      <td>None</td>\n",
       "      <td>None</td>\n",
       "      <td>None</td>\n",
       "      <td>None</td>\n",
       "      <td>None</td>\n",
       "      <td>None</td>\n",
       "      <td>None</td>\n",
       "    </tr>\n",
       "    <tr>\n",
       "      <th>4</th>\n",
       "      <td>mineral water</td>\n",
       "      <td>milk</td>\n",
       "      <td>energy bar</td>\n",
       "      <td>whole wheat rice</td>\n",
       "      <td>green tea</td>\n",
       "      <td>None</td>\n",
       "      <td>None</td>\n",
       "      <td>None</td>\n",
       "      <td>None</td>\n",
       "      <td>None</td>\n",
       "      <td>None</td>\n",
       "      <td>None</td>\n",
       "      <td>None</td>\n",
       "      <td>None</td>\n",
       "      <td>None</td>\n",
       "      <td>None</td>\n",
       "      <td>None</td>\n",
       "      <td>None</td>\n",
       "      <td>None</td>\n",
       "      <td>None</td>\n",
       "    </tr>\n",
       "  </tbody>\n",
       "</table>\n",
       "</div>"
      ],
      "text/plain": [
       "               1          2           3                 4             5  \\\n",
       "0         shrimp    almonds     avocado    vegetables mix  green grapes   \n",
       "1        burgers  meatballs        eggs              None          None   \n",
       "2        chutney       None        None              None          None   \n",
       "3         turkey    avocado        None              None          None   \n",
       "4  mineral water       milk  energy bar  whole wheat rice     green tea   \n",
       "\n",
       "                  6     7               8             9            10  \\\n",
       "0  whole weat flour  yams  cottage cheese  energy drink  tomato juice   \n",
       "1              None  None            None          None          None   \n",
       "2              None  None            None          None          None   \n",
       "3              None  None            None          None          None   \n",
       "4              None  None            None          None          None   \n",
       "\n",
       "               11         12     13     14             15      16  \\\n",
       "0  low fat yogurt  green tea  honey  salad  mineral water  salmon   \n",
       "1            None       None   None   None           None    None   \n",
       "2            None       None   None   None           None    None   \n",
       "3            None       None   None   None           None    None   \n",
       "4            None       None   None   None           None    None   \n",
       "\n",
       "                  17               18       19         20  \n",
       "0  antioxydant juice  frozen smoothie  spinach  olive oil  \n",
       "1               None             None     None       None  \n",
       "2               None             None     None       None  \n",
       "3               None             None     None       None  \n",
       "4               None             None     None       None  "
      ]
     },
     "execution_count": 2,
     "metadata": {},
     "output_type": "execute_result"
    }
   ],
   "source": [
    "cols = ['1','2','3','4','5','6','7','8','9','10','11','12',\n",
    "        '13','14','15','16','17','18','19','20']\n",
    "       # '23','24','25','26','27','28','29','30','31','32']\n",
    "\n",
    "df = pd.read_csv(\"dataset/shopdata.csv\", sep = \",\", \n",
    "                 names = cols, engine = \"python\")\n",
    "data = np.array(df)\n",
    "df.head(5)"
   ]
  },
  {
   "cell_type": "code",
   "execution_count": 3,
   "id": "c5a06c29",
   "metadata": {},
   "outputs": [
    {
     "data": {
      "text/html": [
       "<div>\n",
       "<style scoped>\n",
       "    .dataframe tbody tr th:only-of-type {\n",
       "        vertical-align: middle;\n",
       "    }\n",
       "\n",
       "    .dataframe tbody tr th {\n",
       "        vertical-align: top;\n",
       "    }\n",
       "\n",
       "    .dataframe thead th {\n",
       "        text-align: right;\n",
       "    }\n",
       "</style>\n",
       "<table border=\"1\" class=\"dataframe\">\n",
       "  <thead>\n",
       "    <tr style=\"text-align: right;\">\n",
       "      <th></th>\n",
       "      <th>1</th>\n",
       "      <th>2</th>\n",
       "      <th>3</th>\n",
       "      <th>4</th>\n",
       "      <th>5</th>\n",
       "      <th>6</th>\n",
       "      <th>7</th>\n",
       "      <th>8</th>\n",
       "      <th>9</th>\n",
       "      <th>10</th>\n",
       "      <th>11</th>\n",
       "      <th>12</th>\n",
       "      <th>13</th>\n",
       "      <th>14</th>\n",
       "      <th>15</th>\n",
       "      <th>16</th>\n",
       "      <th>17</th>\n",
       "      <th>18</th>\n",
       "      <th>19</th>\n",
       "      <th>20</th>\n",
       "    </tr>\n",
       "  </thead>\n",
       "  <tbody>\n",
       "    <tr>\n",
       "      <th>count</th>\n",
       "      <td>7501</td>\n",
       "      <td>5747</td>\n",
       "      <td>4389</td>\n",
       "      <td>3345</td>\n",
       "      <td>2529</td>\n",
       "      <td>1864</td>\n",
       "      <td>1369</td>\n",
       "      <td>981</td>\n",
       "      <td>654</td>\n",
       "      <td>395</td>\n",
       "      <td>256</td>\n",
       "      <td>154</td>\n",
       "      <td>87</td>\n",
       "      <td>47</td>\n",
       "      <td>25</td>\n",
       "      <td>8</td>\n",
       "      <td>4</td>\n",
       "      <td>4</td>\n",
       "      <td>3</td>\n",
       "      <td>1</td>\n",
       "    </tr>\n",
       "    <tr>\n",
       "      <th>unique</th>\n",
       "      <td>115</td>\n",
       "      <td>117</td>\n",
       "      <td>115</td>\n",
       "      <td>114</td>\n",
       "      <td>110</td>\n",
       "      <td>106</td>\n",
       "      <td>102</td>\n",
       "      <td>98</td>\n",
       "      <td>88</td>\n",
       "      <td>80</td>\n",
       "      <td>66</td>\n",
       "      <td>50</td>\n",
       "      <td>43</td>\n",
       "      <td>28</td>\n",
       "      <td>19</td>\n",
       "      <td>8</td>\n",
       "      <td>3</td>\n",
       "      <td>3</td>\n",
       "      <td>3</td>\n",
       "      <td>1</td>\n",
       "    </tr>\n",
       "    <tr>\n",
       "      <th>top</th>\n",
       "      <td>mineral water</td>\n",
       "      <td>mineral water</td>\n",
       "      <td>mineral water</td>\n",
       "      <td>mineral water</td>\n",
       "      <td>green tea</td>\n",
       "      <td>french fries</td>\n",
       "      <td>green tea</td>\n",
       "      <td>green tea</td>\n",
       "      <td>green tea</td>\n",
       "      <td>green tea</td>\n",
       "      <td>low fat yogurt</td>\n",
       "      <td>green tea</td>\n",
       "      <td>green tea</td>\n",
       "      <td>green tea</td>\n",
       "      <td>magazines</td>\n",
       "      <td>cake</td>\n",
       "      <td>frozen smoothie</td>\n",
       "      <td>protein bar</td>\n",
       "      <td>mayonnaise</td>\n",
       "      <td>olive oil</td>\n",
       "    </tr>\n",
       "    <tr>\n",
       "      <th>freq</th>\n",
       "      <td>577</td>\n",
       "      <td>484</td>\n",
       "      <td>375</td>\n",
       "      <td>201</td>\n",
       "      <td>153</td>\n",
       "      <td>107</td>\n",
       "      <td>96</td>\n",
       "      <td>67</td>\n",
       "      <td>57</td>\n",
       "      <td>31</td>\n",
       "      <td>22</td>\n",
       "      <td>15</td>\n",
       "      <td>8</td>\n",
       "      <td>4</td>\n",
       "      <td>3</td>\n",
       "      <td>1</td>\n",
       "      <td>2</td>\n",
       "      <td>2</td>\n",
       "      <td>1</td>\n",
       "      <td>1</td>\n",
       "    </tr>\n",
       "  </tbody>\n",
       "</table>\n",
       "</div>"
      ],
      "text/plain": [
       "                    1              2              3              4          5  \\\n",
       "count            7501           5747           4389           3345       2529   \n",
       "unique            115            117            115            114        110   \n",
       "top     mineral water  mineral water  mineral water  mineral water  green tea   \n",
       "freq              577            484            375            201        153   \n",
       "\n",
       "                   6          7          8          9         10  \\\n",
       "count           1864       1369        981        654        395   \n",
       "unique           106        102         98         88         80   \n",
       "top     french fries  green tea  green tea  green tea  green tea   \n",
       "freq             107         96         67         57         31   \n",
       "\n",
       "                    11         12         13         14         15    16  \\\n",
       "count              256        154         87         47         25     8   \n",
       "unique              66         50         43         28         19     8   \n",
       "top     low fat yogurt  green tea  green tea  green tea  magazines  cake   \n",
       "freq                22         15          8          4          3     1   \n",
       "\n",
       "                     17           18          19         20  \n",
       "count                 4            4           3          1  \n",
       "unique                3            3           3          1  \n",
       "top     frozen smoothie  protein bar  mayonnaise  olive oil  \n",
       "freq                  2            2           1          1  "
      ]
     },
     "execution_count": 3,
     "metadata": {},
     "output_type": "execute_result"
    }
   ],
   "source": [
    "df.describe()"
   ]
  },
  {
   "cell_type": "code",
   "execution_count": 4,
   "id": "a10af319",
   "metadata": {},
   "outputs": [
    {
     "data": {
      "text/plain": [
       "(7501, 20)"
      ]
     },
     "execution_count": 4,
     "metadata": {},
     "output_type": "execute_result"
    }
   ],
   "source": [
    "df.shape"
   ]
  },
  {
   "cell_type": "code",
   "execution_count": 5,
   "id": "2e0fe9e2",
   "metadata": {},
   "outputs": [],
   "source": [
    "def get_unique_items(data):\n",
    "    ncol = data.shape[1]\n",
    "    items = set()\n",
    "    for c in range(ncol):\n",
    "        items = items.union(data[:,c])\n",
    "    items = np.array(list(items))\n",
    "    items = items[items != np.array(None)]\n",
    "\n",
    "    return np.unique(items)"
   ]
  },
  {
   "cell_type": "code",
   "execution_count": 6,
   "id": "f6bfe5fe",
   "metadata": {},
   "outputs": [],
   "source": [
    "def get_onehot_items(data,unique_items):\n",
    "    onehot_items = np.zeros((len(data),len(unique_items)),dtype = np.int)\n",
    "    for i, r in enumerate(data):\n",
    "        for j, c in enumerate(unique_items):\n",
    "            onehot_items[i,j] = int(c in r)\n",
    "            \n",
    "    return onehot_items\n"
   ]
  },
  {
   "cell_type": "code",
   "execution_count": 7,
   "id": "0e0815d1",
   "metadata": {},
   "outputs": [],
   "source": [
    "def get_items_from_ohe(ohe,unique_items):\n",
    "    return unique_items[np.flatnonzero(ohe)]"
   ]
  },
  {
   "cell_type": "code",
   "execution_count": 8,
   "id": "b1e7613e",
   "metadata": {},
   "outputs": [],
   "source": [
    "unique_items = get_unique_items(data)\n",
    "onehot_items = np.array(get_onehot_items(data, unique_items))\n",
    "\n",
    "\n",
    "n = 15\n",
    "item_counts = (onehot_items != 0).sum(0)\n",
    "items_max_args = item_counts.argsort()[-n:][::-1]\n",
    "ic = pd.DataFrame({\"Items\":unique_items[items_max_args], \"Frequency\":item_counts[items_max_args]})\n"
   ]
  },
  {
   "cell_type": "code",
   "execution_count": 9,
   "id": "21662a2f",
   "metadata": {},
   "outputs": [
    {
     "data": {
      "image/png": "[encoded data removed]",
      "text/plain": [
       "<Figure size 1152x576 with 1 Axes>"
      ]
     },
     "metadata": {},
     "output_type": "display_data"
    }
   ],
   "source": [
    "fig = plt.figure(figsize = (16,8))\n",
    "sns.barplot(x=\"Items\", y=\"Frequency\", data=ic, palette=sns.color_palette(\"Set2\", 10))\n",
    "plt.xlabel(\"Items\")\n",
    "plt.ylabel(\"Frequency\")\n",
    "plt.title(str(n) + \" Most frequent items in the dataset\")\n",
    "plt.show()"
   ]
  },
  {
   "cell_type": "code",
   "execution_count": 10,
   "id": "ec86ff5c",
   "metadata": {},
   "outputs": [
    {
     "name": "stdout",
     "output_type": "stream",
     "text": [
      "\n"
     ]
    }
   ],
   "source": [
    "train_test_split = np.random.rand(len(onehot_items)) < 0.80\n",
    "train_x = onehot_items[train_test_split]\n",
    "test_x = onehot_items[~train_test_split]\n",
    "print()\n"
   ]
  },
  {
   "cell_type": "code",
   "execution_count": 11,
   "id": "fda3a519",
   "metadata": {},
   "outputs": [],
   "source": [
    "train_validation_split = np.random.rand(len(train_x)) < 0.80\n",
    "validation_x = train_x[~train_validation_split]\n",
    "train_x = train_x[train_validation_split]"
   ]
  },
  {
   "cell_type": "code",
   "execution_count": 12,
   "id": "8bfc14f0",
   "metadata": {},
   "outputs": [],
   "source": [
    "def weight_variable(weight_name, weight_shape):\n",
    "    return tf.get_variable(name = \"weight_\" + weight_name,shape = weight_shape, \n",
    "            initializer = tf.contrib.layers.xavier_initializer()) "
   ]
  },
  {
   "cell_type": "code",
   "execution_count": 13,
   "id": "b22043be",
   "metadata": {},
   "outputs": [],
   "source": [
    "def bias_variable(bias_shape):\n",
    "    initial = tf.constant(0.1, shape = bias_shape)\n",
    "    return tf.Variable(initial)"
   ]
  },
  {
   "cell_type": "code",
   "execution_count": 14,
   "id": "ea731429",
   "metadata": {},
   "outputs": [],
   "source": [
    "def encoder(x):\n",
    "    l1 = tf.nn.softsign(tf.add(tf.matmul(x,e_weights_h1),e_biases_h1))\n",
    "    l2 = tf.nn.softsign(tf.add(tf.matmul(l1,e_weights_h2),e_biases_h2))\n",
    "    l3 = tf.nn.softsign(tf.add(tf.matmul(l2,e_weights_h3),e_biases_h3))\n",
    "    l4 = tf.nn.sigmoid(tf.add(tf.matmul(l3,e_weights_h4),e_biases_h4))\n",
    "    return l4"
   ]
  },
  {
   "cell_type": "code",
   "execution_count": 15,
   "id": "2813f621",
   "metadata": {},
   "outputs": [],
   "source": [
    "def decoder(x):\n",
    "    l1 = tf.nn.softsign(tf.add(tf.matmul(x,d_weights_h1),d_biases_h1))\n",
    "    l2 = tf.nn.softsign(tf.add(tf.matmul(l1,d_weights_h2),d_biases_h2))\n",
    "    l3 = tf.nn.softsign(tf.add(tf.matmul(l2,d_weights_h3),d_biases_h3))\n",
    "    l4 = tf.nn.sigmoid(tf.add(tf.matmul(l3,d_weights_h4),d_biases_h4))\n",
    "    return l4"
   ]
  },
  {
   "cell_type": "markdown",
   "id": "86e4bd6c",
   "metadata": {},
   "source": [
    "#### Terminology"
   ]
  },
  {
   "cell_type": "markdown",
   "id": "31efd5fd",
   "metadata": {},
   "source": [
    "input_dim = 169\n",
    "\n",
    "n_hidden_1 = 128\n",
    "n_hidden_2 = 64\n",
    "n_hidden_3 = 32\n",
    "n_hidden_4 = 16\n",
    "\n",
    "training_epochs = 30\n",
    "batch_size = 50\n",
    "total_batches = (train_x.shape[0] // batch_size)\n",
    "\n",
    "learning_rate = 0.00002\n",
    "keep_prob = 0.6\n",
    "l2_reg_rate = 0.00001\n"
   ]
  },
  {
   "cell_type": "code",
   "execution_count": 31,
   "id": "d2249406",
   "metadata": {},
   "outputs": [],
   "source": [
    "input_dim = 120\n",
    "\n",
    "n_hidden_1 = 108\n",
    "n_hidden_2 = 64\n",
    "n_hidden_3 = 32\n",
    "n_hidden_4 = 16\n",
    "\n",
    "training_epochs = 18\n",
    "batch_size = 50\n",
    "total_batches = (train_x.shape[0] // batch_size)\n",
    "\n",
    "learning_rate = 0.0002 #0.0002\n",
    "keep_prob = 0.8\n",
    "l2_reg_rate = 0.000001"
   ]
  },
  {
   "cell_type": "code",
   "execution_count": 32,
   "id": "9adb5d5f",
   "metadata": {},
   "outputs": [],
   "source": [
    "tf.reset_default_graph()"
   ]
  },
  {
   "cell_type": "code",
   "execution_count": 33,
   "id": "2619c459",
   "metadata": {},
   "outputs": [
    {
     "name": "stdout",
     "output_type": "stream",
     "text": [
      "X_drop Tensor(\"Dropout/cond/Merge:0\", shape=(?, 120), dtype=float32)\n"
     ]
    }
   ],
   "source": [
    "is_training = tf.placeholder_with_default(False, shape = ())\n",
    "X = tf.placeholder(tf.float32, shape=[None,input_dim])\n",
    "X_drop = tf.contrib.layers.dropout(X, keep_prob, is_training = is_training)\n",
    "#X_drop = tf.contrib.layers.dropout(X, keep_prob, noise_shape=None, is_training=True, outputs_collections=None, scope=None, seed=None )\n",
    "print(\"X_drop\", X_drop)"
   ]
  },
  {
   "cell_type": "markdown",
   "id": "14536396",
   "metadata": {},
   "source": [
    "##### --------------------- Encoder Variables --------------- ####"
   ]
  },
  {
   "cell_type": "code",
   "execution_count": 34,
   "id": "b7e5cd6c",
   "metadata": {},
   "outputs": [
    {
     "data": {
      "text/plain": [
       "<tf.Variable 'Variable_3:0' shape=(16,) dtype=float32_ref>"
      ]
     },
     "execution_count": 34,
     "metadata": {},
     "output_type": "execute_result"
    }
   ],
   "source": [
    "e_weights_h1 = weight_variable(\"el1\",[input_dim, n_hidden_1])\n",
    "e_biases_h1 = bias_variable([n_hidden_1])\n",
    "\n",
    "e_weights_h2 = weight_variable(\"el2\",[n_hidden_1, n_hidden_2])\n",
    "e_biases_h2 = bias_variable([n_hidden_2])\n",
    "\n",
    "e_weights_h3 = weight_variable(\"el3\",[n_hidden_2, n_hidden_3])\n",
    "e_biases_h3 = bias_variable([n_hidden_3])\n",
    "\n",
    "e_weights_h4 = weight_variable(\"el4\",[n_hidden_3, n_hidden_4])\n",
    "e_biases_h4 = bias_variable([n_hidden_4])\n",
    "e_biases_h4"
   ]
  },
  {
   "cell_type": "markdown",
   "id": "ec1ed337",
   "metadata": {},
   "source": [
    "\n",
    "\n",
    "#### --------------------- Decoder Variables --------------- ####"
   ]
  },
  {
   "cell_type": "code",
   "execution_count": 35,
   "id": "8ae652f9",
   "metadata": {},
   "outputs": [],
   "source": [
    "d_weights_h1 = weight_variable(\"dl1\",[n_hidden_4, n_hidden_3])\n",
    "d_biases_h1 = bias_variable([n_hidden_3])\n",
    "\n",
    "d_weights_h2 = weight_variable(\"dl2\",[n_hidden_3, n_hidden_2])\n",
    "d_biases_h2 = bias_variable([n_hidden_2])\n",
    "\n",
    "d_weights_h3 = weight_variable(\"dl3\",[n_hidden_2, n_hidden_1])\n",
    "d_biases_h3 = bias_variable([n_hidden_1])\n",
    "\n",
    "d_weights_h4 = weight_variable(\"dl4\",[n_hidden_1, input_dim])\n",
    "d_biases_h4 = bias_variable([input_dim])"
   ]
  },
  {
   "cell_type": "code",
   "execution_count": 36,
   "id": "12d81d76",
   "metadata": {},
   "outputs": [
    {
     "name": "stdout",
     "output_type": "stream",
     "text": [
      "HHHH== Tensor(\"Sigmoid:0\", shape=(?, 16), dtype=float32)\n",
      "MMMM== Tensor(\"Sigmoid_1:0\", shape=(?, 120), dtype=float32)\n"
     ]
    }
   ],
   "source": [
    "encoded = encoder(X_drop)\n",
    "print(\"HHHH==\",encoded)\n",
    "decoded = decoder(encoded)\n",
    "print(\"MMMM==\", decoded) "
   ]
  },
  {
   "cell_type": "code",
   "execution_count": 37,
   "id": "dfcc8635",
   "metadata": {},
   "outputs": [],
   "source": [
    "regularizer = tf.contrib.layers.l2_regularizer(l2_reg_rate)\n",
    "reg_loss = regularizer(e_weights_h1) + regularizer(e_weights_h2) + regularizer(e_weights_h3) + regularizer(e_weights_h4) \n",
    "cost_function = -tf.reduce_mean(((X * tf.log(decoded)) + ((1 - X) * tf.log(1 - decoded)))) + reg_loss\n",
    "\n",
    "optimizer = tf.train.AdamOptimizer(learning_rate).minimize(cost_function)"
   ]
  },
  {
   "cell_type": "code",
   "execution_count": 40,
   "id": "41a5e80c",
   "metadata": {},
   "outputs": [
    {
     "name": "stdout",
     "output_type": "stream",
     "text": [
      "Epoch    Tr. Loss   Val. Loss\n",
      "1 \t 0.40590352   0.40485707\n",
      "2 \t 0.17430165   0.17198174\n",
      "3 \t 0.13857175   0.13598685\n",
      "4 \t 0.1298472   0.12715861\n",
      "5 \t 0.12671764   0.123949304\n",
      "6 \t 0.12533611   0.12250107\n",
      "7 \t 0.12464254   0.121751614\n",
      "8 \t 0.12426226   0.12132481\n",
      "9 \t 0.12403987   0.12106391\n",
      "10 \t 0.12390313   0.12089558\n",
      "11 \t 0.123815335   0.12078205\n",
      "12 \t 0.12375657   0.120702505\n",
      "13 \t 0.12371554   0.12064482\n",
      "14 \t 0.12368537   0.12060137\n",
      "15 \t 0.123661555   0.12056718\n",
      "16 \t 0.12364014   0.12053805\n",
      "17 \t 0.12361048   0.12050528\n",
      "18 \t 0.12247468   0.119601026\n",
      "Training ROC AUC:  0.8097\n",
      "Validation ROC AUC:  0.8107\n",
      "Test ROC AUC:  0.8056 \n",
      "\n",
      "ttt== 1603\n"
     ]
    }
   ],
   "source": [
    "with tf.Session() as session:\n",
    "    Tr_loss=[]\n",
    "    Val_loss=[]\n",
    "    tf.global_variables_initializer().run()\n",
    "    print(\"Epoch\",\"  \",\"Tr. Loss\",\" \",\"Val. Loss\")\n",
    "    for epoch in range(training_epochs):\n",
    "        for b in range(total_batches):\n",
    "            offset = (b * batch_size) % (train_x.shape[0] - batch_size)\n",
    "            batch_x = train_x[offset:(offset + batch_size), :] \n",
    "            _, c = session.run([optimizer, cost_function],feed_dict={X: batch_x, is_training: True})\n",
    "    \n",
    "        tr_c = session.run(cost_function,feed_dict={X: train_x, is_training: False})\n",
    "        val_c = session.run(cost_function,feed_dict={X: validation_x, is_training: False})\n",
    "        print(epoch+1,\"\\t\",tr_c,\" \",val_c)\n",
    "        Tr_loss.append(tr_c)\n",
    "        Val_loss.append(val_c)\n",
    "    \n",
    "    tr_p = session.run(decoded,feed_dict={X: train_x, is_training: False})\n",
    "    roc_auc = roc_auc_score(train_x,tr_p,average = \"samples\")\n",
    "    print(\"Training ROC AUC: \", round(roc_auc,4))\n",
    "\n",
    "    val_p = session.run(decoded,feed_dict={X: validation_x, is_training: False})\n",
    "    roc_auc = roc_auc_score(validation_x,val_p,average = \"samples\")\n",
    "    print(\"Validation ROC AUC: \", round(roc_auc,4))\n",
    "    \n",
    "    ts_p = session.run(decoded,feed_dict={X: test_x, is_training: False})\n",
    "    roc_auc = roc_auc_score(test_x,ts_p,average = \"samples\")\n",
    "    print(\"Test ROC AUC: \", round(roc_auc,4),\"\\n\")\n",
    "    \n",
    "    item_preds = session.run(decoded,feed_dict={X: test_x.reshape(-1,120), is_training: False})\n",
    "    print(\"ttt==\",len(item_preds))\n",
    "    item_preds[item_preds >= 0.05] = 1\n",
    "    item_preds[item_preds < 0.05] = 0\n",
    "    "
   ]
  },
  {
   "cell_type": "code",
   "execution_count": 41,
   "id": "02b7ffb4",
   "metadata": {},
   "outputs": [
    {
     "data": {
      "image/png": "[encoded data removed]",
      "text/plain": [
       "<Figure size 432x288 with 1 Axes>"
      ]
     },
     "metadata": {},
     "output_type": "display_data"
    }
   ],
   "source": [
    "plt.plot(Tr_loss,'b*', Val_loss, 'y*')\n",
    "plt.show()"
   ]
  },
  {
   "cell_type": "code",
   "execution_count": 42,
   "id": "701bafac",
   "metadata": {},
   "outputs": [
    {
     "name": "stdout",
     "output_type": "stream",
     "text": [
      "Frequent item(s):  ['burgers' 'cake' 'chicken' 'chocolate' 'cookies' 'eggs' 'escalope'\n",
      " 'french fries' 'frozen smoothie' 'frozen vegetables' 'grated cheese'\n",
      " 'green tea' 'ground beef' 'low fat yogurt' 'milk' 'mineral water'\n",
      " 'olive oil' 'pancakes' 'shrimp' 'spaghetti' 'tomatoes' 'turkey'\n",
      " 'whole wheat rice']\n"
     ]
    }
   ],
   "source": [
    "\"\"\"   \n",
    "i = 100\n",
    "#print(\"Items in basket: \",get_items_from_ohe(test_x[i],unique_items))\n",
    "print(\"Recommended item(s): \",get_items_from_ohe(item_preds[i],unique_items))\n",
    "\"\"\"\n",
    "model = NMF(n_components=100, init='random', random_state=0)\n",
    "transation_w = model.fit_transform(item_preds)\n",
    "items_h = model.components_\n",
    "\n",
    "#get_items_from_ohe(items_h[1],unique_items)\n",
    "\n",
    "print(\"Frequent item(s): \",get_items_from_ohe(items_h[0],unique_items))"
   ]
  },
  {
   "cell_type": "code",
   "execution_count": 43,
   "id": "c50b646e",
   "metadata": {},
   "outputs": [
    {
     "name": "stdout",
     "output_type": "stream",
     "text": [
      "1 {whole wheat rice}=>{turkey} support=0.01 confidence=0.12 lift=2.53 conviction=1.08\n",
      "2 {whole wheat rice}=>{turkey} support=0.01 confidence=0.12 lift=2.53 conviction=1.08\n",
      "3 {whole wheat rice}=>{turkey} support=0.01 confidence=0.12 lift=2.53 conviction=1.08\n",
      "4 {whole wheat rice}=>{turkey} support=0.01 confidence=0.12 lift=2.53 conviction=1.08\n",
      "5 {whole wheat rice}=>{tomatoes} support=0.0 confidence=0.1 lift=1.97 conviction=1.06\n",
      "6 {whole wheat rice}=>{turkey} support=0.01 confidence=0.12 lift=2.53 conviction=1.08\n",
      "7 {whole wheat rice}=>{turkey} support=0.01 confidence=0.12 lift=2.53 conviction=1.08\n",
      "8 {whole wheat rice}=>{turkey} support=0.01 confidence=0.12 lift=2.53 conviction=1.08\n",
      "9 {whole wheat rice}=>{turkey} support=0.01 confidence=0.12 lift=2.53 conviction=1.08\n",
      "10 {whole wheat rice}=>{turkey} support=0.01 confidence=0.12 lift=2.53 conviction=1.08\n",
      "11 {whole wheat rice}=>{turkey} support=0.01 confidence=0.12 lift=2.53 conviction=1.08\n",
      "12 {whole wheat rice}=>{turkey} support=0.01 confidence=0.12 lift=2.53 conviction=1.08\n",
      "13 {whole wheat rice}=>{turkey} support=0.01 confidence=0.12 lift=2.53 conviction=1.08\n",
      "14 {whole wheat rice}=>{tomatoes} support=0.0 confidence=0.1 lift=1.97 conviction=1.06\n",
      "15 {whole wheat rice}=>{tomatoes} support=0.0 confidence=0.1 lift=1.97 conviction=1.06\n",
      "16 {whole wheat rice}=>{turkey} support=0.01 confidence=0.12 lift=2.53 conviction=1.08\n",
      "17 {whole wheat rice}=>{turkey} support=0.01 confidence=0.12 lift=2.53 conviction=1.08\n",
      "18 {whole wheat rice}=>{turkey} support=0.01 confidence=0.12 lift=2.53 conviction=1.08\n",
      "19 {whole wheat rice}=>{turkey} support=0.01 confidence=0.12 lift=2.53 conviction=1.08\n",
      "20 {whole wheat rice}=>{turkey} support=0.01 confidence=0.12 lift=2.53 conviction=1.08\n",
      "21 {whole wheat rice}=>{turkey} support=0.01 confidence=0.12 lift=2.53 conviction=1.08\n",
      "22 {whole wheat rice}=>{turkey} support=0.01 confidence=0.12 lift=2.53 conviction=1.08\n",
      "23 {whole wheat rice}=>{turkey} support=0.01 confidence=0.12 lift=2.53 conviction=1.08\n",
      "24 {turkey}=>{tomatoes} support=0.0 confidence=0.1 lift=2.0 conviction=1.06\n",
      "25 {turkey}=>{tomatoes} support=0.0 confidence=0.1 lift=2.0 conviction=1.06\n",
      "26 {turkey}=>{tomatoes} support=0.0 confidence=0.1 lift=2.0 conviction=1.06\n",
      "27 {whole wheat rice}=>{turkey} support=0.01 confidence=0.12 lift=2.53 conviction=1.08\n",
      "28 {whole wheat rice}=>{turkey} support=0.01 confidence=0.12 lift=2.53 conviction=1.08\n",
      "29 {whole wheat rice}=>{turkey} support=0.01 confidence=0.12 lift=2.53 conviction=1.08\n",
      "30 {whole wheat rice}=>{turkey} support=0.01 confidence=0.12 lift=2.53 conviction=1.08\n",
      "31 {whole wheat rice}=>{turkey} support=0.01 confidence=0.12 lift=2.53 conviction=1.08\n",
      "32 {tomato juice}=>{shrimp} support=0.0 confidence=0.12 lift=2.17 conviction=1.07\n",
      "33 {whole wheat rice}=>{turkey} support=0.01 confidence=0.12 lift=2.53 conviction=1.08\n",
      "34 {whole wheat rice}=>{turkey} support=0.01 confidence=0.12 lift=2.53 conviction=1.08\n",
      "35 {whole wheat rice}=>{turkey} support=0.01 confidence=0.12 lift=2.53 conviction=1.08\n",
      "36 {whole wheat rice}=>{turkey} support=0.01 confidence=0.12 lift=2.53 conviction=1.08\n",
      "37 {whole wheat rice}=>{turkey} support=0.01 confidence=0.12 lift=2.53 conviction=1.08\n",
      "38 {whole wheat rice}=>{turkey} support=0.01 confidence=0.12 lift=2.53 conviction=1.08\n",
      "39 {whole wheat rice}=>{tomatoes} support=0.0 confidence=0.1 lift=1.97 conviction=1.06\n",
      "40 {whole wheat rice}=>{turkey} support=0.01 confidence=0.12 lift=2.53 conviction=1.08\n",
      "41 {turkey}=>{tomatoes} support=0.0 confidence=0.1 lift=2.0 conviction=1.06\n",
      "42 {whole wheat rice}=>{turkey} support=0.01 confidence=0.12 lift=2.53 conviction=1.08\n",
      "43 {whole wheat rice}=>{turkey} support=0.01 confidence=0.12 lift=2.53 conviction=1.08\n",
      "44 {whole wheat rice}=>{turkey} support=0.01 confidence=0.12 lift=2.53 conviction=1.08\n",
      "45 {whole wheat rice}=>{turkey} support=0.01 confidence=0.12 lift=2.53 conviction=1.08\n",
      "46 {whole wheat rice}=>{turkey} support=0.01 confidence=0.12 lift=2.53 conviction=1.08\n",
      "47 {whole wheat rice}=>{tomatoes} support=0.0 confidence=0.1 lift=1.97 conviction=1.06\n",
      "48 {whole wheat rice}=>{turkey} support=0.01 confidence=0.12 lift=2.53 conviction=1.08\n",
      "49 {whole wheat rice}=>{turkey} support=0.01 confidence=0.12 lift=2.53 conviction=1.08\n",
      "50 {whole wheat rice}=>{turkey} support=0.01 confidence=0.12 lift=2.53 conviction=1.08\n",
      "51 {whole wheat rice}=>{turkey} support=0.01 confidence=0.12 lift=2.53 conviction=1.08\n",
      "52 {turkey}=>{spaghetti} support=0.01 confidence=0.26 lift=1.99 conviction=1.18\n",
      "53 {whole wheat rice}=>{tomatoes} support=0.0 confidence=0.1 lift=1.97 conviction=1.06\n",
      "54 {whole wheat rice}=>{turkey} support=0.01 confidence=0.12 lift=2.53 conviction=1.08\n",
      "55 {whole wheat rice}=>{turkey} support=0.01 confidence=0.12 lift=2.53 conviction=1.08\n",
      "56 {whole wheat rice}=>{turkey} support=0.01 confidence=0.12 lift=2.53 conviction=1.08\n",
      "57 {whole wheat rice}=>{turkey} support=0.01 confidence=0.12 lift=2.53 conviction=1.08\n",
      "58 {whole wheat rice}=>{tomatoes} support=0.0 confidence=0.1 lift=1.97 conviction=1.06\n",
      "59 {whole wheat rice}=>{turkey} support=0.01 confidence=0.12 lift=2.53 conviction=1.08\n",
      "60 {whole wheat rice}=>{turkey} support=0.01 confidence=0.12 lift=2.53 conviction=1.08\n",
      "61 {turkey}=>{spaghetti} support=0.01 confidence=0.26 lift=1.99 conviction=1.18\n",
      "62 {whole wheat rice}=>{turkey} support=0.01 confidence=0.12 lift=2.53 conviction=1.08\n",
      "63 {whole wheat rice}=>{turkey} support=0.01 confidence=0.12 lift=2.53 conviction=1.08\n",
      "64 {whole wheat rice}=>{turkey} support=0.01 confidence=0.12 lift=2.53 conviction=1.08\n",
      "65 {whole wheat rice}=>{spaghetti} support=0.01 confidence=0.24 lift=1.82 conviction=1.14\n",
      "66 {whole wheat rice}=>{pancakes} support=0.01 confidence=0.12 lift=1.63 conviction=1.05\n",
      "67 {whole wheat rice}=>{shrimp} support=0.0 confidence=0.1 lift=1.84 conviction=1.05\n",
      "68 {whole wheat rice}=>{turkey} support=0.01 confidence=0.12 lift=2.53 conviction=1.08\n",
      "69 {whole wheat rice}=>{turkey} support=0.01 confidence=0.12 lift=2.53 conviction=1.08\n",
      "70 {whole wheat rice}=>{turkey} support=0.01 confidence=0.12 lift=2.53 conviction=1.08\n",
      "71 {tomatoes}=>{spaghetti} support=0.02 confidence=0.31 lift=2.3 conviction=1.25\n",
      "72 {turkey}=>{shrimp} support=0.0 confidence=0.1 lift=1.88 conviction=1.05\n",
      "73 {whole wheat rice}=>{turkey} support=0.01 confidence=0.12 lift=2.53 conviction=1.08\n",
      "74 {whole wheat rice}=>{tomatoes} support=0.0 confidence=0.1 lift=1.97 conviction=1.06\n",
      "75 {whole wheat rice}=>{shrimp} support=0.0 confidence=0.1 lift=1.84 conviction=1.05\n",
      "76 {whole wheat rice}=>{turkey} support=0.01 confidence=0.12 lift=2.53 conviction=1.08\n",
      "77 {turkey}=>{tomatoes} support=0.0 confidence=0.1 lift=2.0 conviction=1.06\n",
      "78 {turkey}=>{tomatoes} support=0.0 confidence=0.1 lift=2.0 conviction=1.06\n",
      "79 {spaghetti}=>{shrimp} support=0.02 confidence=0.12 lift=2.23 conviction=1.08\n",
      "80 {whole wheat rice}=>{turkey} support=0.01 confidence=0.12 lift=2.53 conviction=1.08\n",
      "81 {whole wheat rice}=>{spaghetti} support=0.01 confidence=0.24 lift=1.82 conviction=1.14\n",
      "82 {turkey}=>{spaghetti} support=0.01 confidence=0.26 lift=1.99 conviction=1.18\n",
      "83 {whole wheat rice}=>{turkey} support=0.01 confidence=0.12 lift=2.53 conviction=1.08\n",
      "84 {whole wheat rice}=>{turkey} support=0.01 confidence=0.12 lift=2.53 conviction=1.08\n",
      "85 {whole wheat rice}=>{turkey} support=0.01 confidence=0.12 lift=2.53 conviction=1.08\n",
      "86 {whole wheat rice}=>{spaghetti} support=0.01 confidence=0.24 lift=1.82 conviction=1.14\n",
      "87 {whole wheat rice}=>{turkey} support=0.01 confidence=0.12 lift=2.53 conviction=1.08\n",
      "88 {tomatoes}=>{spaghetti} support=0.02 confidence=0.31 lift=2.3 conviction=1.25\n",
      "89 {whole wheat rice}=>{tomatoes} support=0.0 confidence=0.1 lift=1.97 conviction=1.06\n",
      "90 {whole wheat rice}=>{turkey} support=0.01 confidence=0.12 lift=2.53 conviction=1.08\n",
      "91 {tomatoes}=>{spaghetti} support=0.02 confidence=0.31 lift=2.3 conviction=1.25\n",
      "92 {whole wheat rice}=>{turkey} support=0.01 confidence=0.12 lift=2.53 conviction=1.08\n",
      "93 {whole wheat rice}=>{spaghetti} support=0.01 confidence=0.24 lift=1.82 conviction=1.14\n",
      "94 {whole wheat rice}=>{tomatoes} support=0.0 confidence=0.1 lift=1.97 conviction=1.06\n",
      "95 {whole wheat rice}=>{turkey} support=0.01 confidence=0.12 lift=2.53 conviction=1.08\n",
      "96 {turkey}=>{pancakes} support=0.01 confidence=0.15 lift=2.12 conviction=1.1\n",
      "97 {spaghetti}=>{soup} support=0.01 confidence=0.08 lift=2.13 conviction=1.05\n",
      "98 {whole wheat rice}=>{turkey} support=0.01 confidence=0.12 lift=2.53 conviction=1.08\n",
      "99 {whole wheat rice}=>{turkey} support=0.01 confidence=0.12 lift=2.53 conviction=1.08\n",
      "100 {whole wheat rice}=>{tomatoes} support=0.0 confidence=0.1 lift=1.97 conviction=1.06\n"
     ]
    }
   ],
   "source": [
    "total_transection=9835\n",
    "for i in range(100):\n",
    "    xx=np.asarray(np.nonzero(items_h[i]))\n",
    "    [m,n]=(np.asarray(np.nonzero(items_h[i]))).shape\n",
    "    support_A_B=len(np.intersect1d(np.nonzero(onehot_items[:,xx[0,n-1]]),np.nonzero(onehot_items[:,xx[0,n-2]])))/total_transection\n",
    "    #print(\"{\" + str(unique_items[xx[0,n-1]]) + \"}\" +\"=>\" \"{\" + str(unique_items[xx[0,n-2]]) + \"}\")\n",
    "    [xxxx,sup_A]=(np.asarray(np.nonzero(onehot_items[:,xx[0,n-1]]))).shape\n",
    "    [xxxx,sup_B]=(np.asarray(np.nonzero(onehot_items[:,xx[0,n-2]]))).shape\n",
    "    support_A=sup_A/total_transection\n",
    "    support_B=sup_B/total_transection\n",
    "    confidence_A_B=support_A_B / (support_A)\n",
    "    confidence_B_A=support_A_B / (support_B)\n",
    "    #lift and conviction\n",
    "    lift_A_B=confidence_A_B / support_B\n",
    "    conviction_A_B=(1-support_B)/(1-confidence_A_B)\n",
    "    print(i+1, \"{\" + str(unique_items[xx[0,n-1]]) + \"}\" +\"=>\" \"{\" + str(unique_items[xx[0,n-2]]) + \"}\"+\" \"+ \"support=\"+ str(round(support_A_B,2)) +\" \"+ \"confidence=\" + str(round(confidence_A_B,2))  +\" \"+ \"lift=\" + str(round(lift_A_B,2))  +\" \"+ \"conviction=\" + str(round(conviction_A_B,2)) )\n"
   ]
  },
  {
   "cell_type": "code",
   "execution_count": 45,
   "id": "a9004abb",
   "metadata": {},
   "outputs": [
    {
     "name": "stdout",
     "output_type": "stream",
     "text": [
      "Time consumed in working:  704.3110842704773\n"
     ]
    }
   ],
   "source": [
    "end = time.time()\n",
    "print(\"Time consumed in working: \",end - start)"
   ]
  },
  {
   "cell_type": "markdown",
   "id": "bbc8f091",
   "metadata": {},
   "source": [
    "#under Progress"
   ]
  },
  {
   "cell_type": "code",
   "execution_count": 44,
   "id": "61e96725",
   "metadata": {},
   "outputs": [
    {
     "ename": "IndentationError",
     "evalue": "unexpected indent (<ipython-input-44-24ff34a3f6b2>, line 7)",
     "output_type": "error",
     "traceback": [
      "\u001b[1;36m  File \u001b[1;32m\"<ipython-input-44-24ff34a3f6b2>\"\u001b[1;36m, line \u001b[1;32m7\u001b[0m\n\u001b[1;33m    result_ann = pd.concat([result_ann, temp])\u001b[0m\n\u001b[1;37m    ^\u001b[0m\n\u001b[1;31mIndentationError\u001b[0m\u001b[1;31m:\u001b[0m unexpected indent\n"
     ]
    }
   ],
   "source": [
    "#antecedents=[]\n",
    "#consequents=[]\n",
    "antecedents=str(unique_items[xx[0,n-1]])\n",
    "consequents=str(unique_items[xx[0,n-2]])\n",
    "\n",
    "temp = pd.DataFrame({'Support': str(round(support_A_B,2)), 'Confidence': str(round(confidence_A_B,2)), 'Lift': str(round(lift_A_B,2)), 'Conviction':str(round(conviction_A_B,2)) })\n",
    "    result_ann = pd.concat([result_ann, temp])\n",
    "\n",
    "result_ann.to_csv(\"result_ann.csv\", sep=',') "
   ]
  },
  {
   "cell_type": "code",
   "execution_count": 30,
   "id": "93993133",
   "metadata": {},
   "outputs": [
    {
     "ename": "NameError",
     "evalue": "name 'support_A_B' is not defined",
     "output_type": "error",
     "traceback": [
      "\u001b[1;31m---------------------------------------------------------------------------\u001b[0m",
      "\u001b[1;31mNameError\u001b[0m                                 Traceback (most recent call last)",
      "\u001b[1;32m<ipython-input-30-b8f3b3e2cca2>\u001b[0m in \u001b[0;36m<module>\u001b[1;34m\u001b[0m\n\u001b[1;32m----> 1\u001b[1;33m \u001b[0mtemp\u001b[0m \u001b[1;33m=\u001b[0m \u001b[1;33m{\u001b[0m\u001b[1;34m'Support'\u001b[0m\u001b[1;33m:\u001b[0m \u001b[0mstr\u001b[0m\u001b[1;33m(\u001b[0m\u001b[0mround\u001b[0m\u001b[1;33m(\u001b[0m\u001b[0msupport_A_B\u001b[0m\u001b[1;33m,\u001b[0m\u001b[1;36m2\u001b[0m\u001b[1;33m)\u001b[0m\u001b[1;33m)\u001b[0m\u001b[1;33m,\u001b[0m \u001b[1;34m'Confidence'\u001b[0m\u001b[1;33m:\u001b[0m \u001b[0mstr\u001b[0m\u001b[1;33m(\u001b[0m\u001b[0mround\u001b[0m\u001b[1;33m(\u001b[0m\u001b[0mconfidence_A_B\u001b[0m\u001b[1;33m,\u001b[0m\u001b[1;36m2\u001b[0m\u001b[1;33m)\u001b[0m\u001b[1;33m)\u001b[0m\u001b[1;33m,\u001b[0m \u001b[1;34m'Lift'\u001b[0m\u001b[1;33m:\u001b[0m \u001b[0mstr\u001b[0m\u001b[1;33m(\u001b[0m\u001b[0mround\u001b[0m\u001b[1;33m(\u001b[0m\u001b[0mlift_A_B\u001b[0m\u001b[1;33m,\u001b[0m\u001b[1;36m2\u001b[0m\u001b[1;33m)\u001b[0m\u001b[1;33m)\u001b[0m\u001b[1;33m,\u001b[0m \u001b[1;34m'Conviction'\u001b[0m\u001b[1;33m:\u001b[0m\u001b[0mstr\u001b[0m\u001b[1;33m(\u001b[0m\u001b[0mround\u001b[0m\u001b[1;33m(\u001b[0m\u001b[0mconviction_A_B\u001b[0m\u001b[1;33m,\u001b[0m\u001b[1;36m2\u001b[0m\u001b[1;33m)\u001b[0m\u001b[1;33m)\u001b[0m \u001b[1;33m}\u001b[0m\u001b[1;33m\u001b[0m\u001b[1;33m\u001b[0m\u001b[0m\n\u001b[0m\u001b[0;32m      2\u001b[0m \u001b[0mdataframe\u001b[0m \u001b[1;33m=\u001b[0m \u001b[0mpd\u001b[0m\u001b[1;33m.\u001b[0m\u001b[0mDataFrame\u001b[0m\u001b[1;33m(\u001b[0m\u001b[0mtemp\u001b[0m\u001b[1;33m)\u001b[0m\u001b[1;33m\u001b[0m\u001b[1;33m\u001b[0m\u001b[0m\n\u001b[0;32m      3\u001b[0m \u001b[0mdataframe\u001b[0m\u001b[1;33m.\u001b[0m\u001b[0mto_csv\u001b[0m\u001b[1;33m(\u001b[0m\u001b[1;34m'result_ann.csv'\u001b[0m\u001b[1;33m)\u001b[0m\u001b[1;33m\u001b[0m\u001b[1;33m\u001b[0m\u001b[0m\n",
      "\u001b[1;31mNameError\u001b[0m: name 'support_A_B' is not defined"
     ]
    }
   ],
   "source": [
    "temp = {'Support': str(round(support_A_B,2)), 'Confidence': str(round(confidence_A_B,2)), 'Lift': str(round(lift_A_B,2)), 'Conviction':str(round(conviction_A_B,2)) }\n",
    "dataframe = pd.DataFrame(temp) \n",
    "dataframe.to_csv('result_ann.csv')"
   ]
  },
  {
   "cell_type": "code",
   "execution_count": null,
   "id": "317f207f",
   "metadata": {},
   "outputs": [],
   "source": []
  },
  {
   "cell_type": "code",
   "execution_count": null,
   "id": "5453b47b",
   "metadata": {},
   "outputs": [],
   "source": []
  }
 ],
 "metadata": {
  "kernelspec": {
   "display_name": "Python 3",
   "language": "python",
   "name": "python3"
  },
  "language_info": {
   "codemirror_mode": {
    "name": "ipython",
    "version": 3
   },
   "file_extension": ".py",
   "mimetype": "text/x-python",
   "name": "python",
   "nbconvert_exporter": "python",
   "pygments_lexer": "ipython3",
   "version": "3.6.13"
  }
 },
 "nbformat": 4,
 "nbformat_minor": 5
}

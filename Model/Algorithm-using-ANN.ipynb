{
 "cells": [
  {
   "cell_type": "markdown",
   "id": "cf4f8bbb",
   "metadata": {},
   "source": [
    "## ANN approach for ARM\n"
   ]
  },
  {
   "cell_type": "code",
   "execution_count": 1,
   "id": "5ab8a297",
   "metadata": {},
   "outputs": [],
   "source": [
    "\"\"\"\n",
    "@author: Dr. H K Patel, Pankaj, Aditya\n",
    "\"\"\"\n",
    "import time\n",
    "start = time.time()\n",
    "from sklearn.decomposition import NMF\n",
    "import numpy as np\n",
    "import pandas as pd\n",
    "import tensorflow as tf\n",
    "from sklearn.metrics import roc_auc_score\n",
    "\n",
    "import warnings\n",
    "warnings.simplefilter(\"ignore\", UserWarning)\n",
    "\n",
    "import matplotlib.pyplot as plt\n",
    "import seaborn as sns\n",
    "sns.set_style(\"whitegrid\")"
   ]
  },
  {
   "cell_type": "code",
   "execution_count": 2,
   "id": "0153ab0c",
   "metadata": {},
   "outputs": [
    {
     "data": {
      "text/html": [
       "<div>\n",
       "<style scoped>\n",
       "    .dataframe tbody tr th:only-of-type {\n",
       "        vertical-align: middle;\n",
       "    }\n",
       "\n",
       "    .dataframe tbody tr th {\n",
       "        vertical-align: top;\n",
       "    }\n",
       "\n",
       "    .dataframe thead th {\n",
       "        text-align: right;\n",
       "    }\n",
       "</style>\n",
       "<table border=\"1\" class=\"dataframe\">\n",
       "  <thead>\n",
       "    <tr style=\"text-align: right;\">\n",
       "      <th></th>\n",
       "      <th>1</th>\n",
       "      <th>2</th>\n",
       "      <th>3</th>\n",
       "      <th>4</th>\n",
       "      <th>5</th>\n",
       "      <th>6</th>\n",
       "      <th>7</th>\n",
       "      <th>8</th>\n",
       "      <th>9</th>\n",
       "      <th>10</th>\n",
       "      <th>...</th>\n",
       "      <th>23</th>\n",
       "      <th>24</th>\n",
       "      <th>25</th>\n",
       "      <th>26</th>\n",
       "      <th>27</th>\n",
       "      <th>28</th>\n",
       "      <th>29</th>\n",
       "      <th>30</th>\n",
       "      <th>31</th>\n",
       "      <th>32</th>\n",
       "    </tr>\n",
       "  </thead>\n",
       "  <tbody>\n",
       "    <tr>\n",
       "      <th>0</th>\n",
       "      <td>citrus fruit</td>\n",
       "      <td>semi-finished bread</td>\n",
       "      <td>margarine</td>\n",
       "      <td>ready soups</td>\n",
       "      <td>None</td>\n",
       "      <td>None</td>\n",
       "      <td>None</td>\n",
       "      <td>None</td>\n",
       "      <td>None</td>\n",
       "      <td>None</td>\n",
       "      <td>...</td>\n",
       "      <td>None</td>\n",
       "      <td>None</td>\n",
       "      <td>None</td>\n",
       "      <td>None</td>\n",
       "      <td>None</td>\n",
       "      <td>None</td>\n",
       "      <td>None</td>\n",
       "      <td>None</td>\n",
       "      <td>None</td>\n",
       "      <td>None</td>\n",
       "    </tr>\n",
       "    <tr>\n",
       "      <th>1</th>\n",
       "      <td>tropical fruit</td>\n",
       "      <td>yogurt</td>\n",
       "      <td>coffee</td>\n",
       "      <td>None</td>\n",
       "      <td>None</td>\n",
       "      <td>None</td>\n",
       "      <td>None</td>\n",
       "      <td>None</td>\n",
       "      <td>None</td>\n",
       "      <td>None</td>\n",
       "      <td>...</td>\n",
       "      <td>None</td>\n",
       "      <td>None</td>\n",
       "      <td>None</td>\n",
       "      <td>None</td>\n",
       "      <td>None</td>\n",
       "      <td>None</td>\n",
       "      <td>None</td>\n",
       "      <td>None</td>\n",
       "      <td>None</td>\n",
       "      <td>None</td>\n",
       "    </tr>\n",
       "    <tr>\n",
       "      <th>2</th>\n",
       "      <td>whole milk</td>\n",
       "      <td>None</td>\n",
       "      <td>None</td>\n",
       "      <td>None</td>\n",
       "      <td>None</td>\n",
       "      <td>None</td>\n",
       "      <td>None</td>\n",
       "      <td>None</td>\n",
       "      <td>None</td>\n",
       "      <td>None</td>\n",
       "      <td>...</td>\n",
       "      <td>None</td>\n",
       "      <td>None</td>\n",
       "      <td>None</td>\n",
       "      <td>None</td>\n",
       "      <td>None</td>\n",
       "      <td>None</td>\n",
       "      <td>None</td>\n",
       "      <td>None</td>\n",
       "      <td>None</td>\n",
       "      <td>None</td>\n",
       "    </tr>\n",
       "    <tr>\n",
       "      <th>3</th>\n",
       "      <td>pip fruit</td>\n",
       "      <td>yogurt</td>\n",
       "      <td>cream cheese</td>\n",
       "      <td>meat spreads</td>\n",
       "      <td>None</td>\n",
       "      <td>None</td>\n",
       "      <td>None</td>\n",
       "      <td>None</td>\n",
       "      <td>None</td>\n",
       "      <td>None</td>\n",
       "      <td>...</td>\n",
       "      <td>None</td>\n",
       "      <td>None</td>\n",
       "      <td>None</td>\n",
       "      <td>None</td>\n",
       "      <td>None</td>\n",
       "      <td>None</td>\n",
       "      <td>None</td>\n",
       "      <td>None</td>\n",
       "      <td>None</td>\n",
       "      <td>None</td>\n",
       "    </tr>\n",
       "    <tr>\n",
       "      <th>4</th>\n",
       "      <td>other vegetables</td>\n",
       "      <td>whole milk</td>\n",
       "      <td>condensed milk</td>\n",
       "      <td>long life bakery product</td>\n",
       "      <td>None</td>\n",
       "      <td>None</td>\n",
       "      <td>None</td>\n",
       "      <td>None</td>\n",
       "      <td>None</td>\n",
       "      <td>None</td>\n",
       "      <td>...</td>\n",
       "      <td>None</td>\n",
       "      <td>None</td>\n",
       "      <td>None</td>\n",
       "      <td>None</td>\n",
       "      <td>None</td>\n",
       "      <td>None</td>\n",
       "      <td>None</td>\n",
       "      <td>None</td>\n",
       "      <td>None</td>\n",
       "      <td>None</td>\n",
       "    </tr>\n",
       "  </tbody>\n",
       "</table>\n",
       "<p>5 rows × 32 columns</p>\n",
       "</div>"
      ],
      "text/plain": [
       "                  1                    2               3  \\\n",
       "0      citrus fruit  semi-finished bread       margarine   \n",
       "1    tropical fruit               yogurt          coffee   \n",
       "2        whole milk                 None            None   \n",
       "3         pip fruit               yogurt   cream cheese    \n",
       "4  other vegetables           whole milk  condensed milk   \n",
       "\n",
       "                          4     5     6     7     8     9    10  ...    23  \\\n",
       "0               ready soups  None  None  None  None  None  None  ...  None   \n",
       "1                      None  None  None  None  None  None  None  ...  None   \n",
       "2                      None  None  None  None  None  None  None  ...  None   \n",
       "3              meat spreads  None  None  None  None  None  None  ...  None   \n",
       "4  long life bakery product  None  None  None  None  None  None  ...  None   \n",
       "\n",
       "     24    25    26    27    28    29    30    31    32  \n",
       "0  None  None  None  None  None  None  None  None  None  \n",
       "1  None  None  None  None  None  None  None  None  None  \n",
       "2  None  None  None  None  None  None  None  None  None  \n",
       "3  None  None  None  None  None  None  None  None  None  \n",
       "4  None  None  None  None  None  None  None  None  None  \n",
       "\n",
       "[5 rows x 32 columns]"
      ]
     },
     "execution_count": 2,
     "metadata": {},
     "output_type": "execute_result"
    }
   ],
   "source": [
    "cols = ['1','2','3','4','5','6','7','8','9','10','11','12',\n",
    "        '13','14','15','16','17','18','19','20','21','22',\n",
    "        '23','24','25','26','27','28','29','30','31','32']\n",
    "\n",
    "df = pd.read_csv(\"groceries.csv\", sep = \",\", \n",
    "                 names = cols, engine = \"python\")\n",
    "data = np.array(df)\n",
    "df.head(5)"
   ]
  },
  {
   "cell_type": "code",
   "execution_count": 3,
   "id": "c5a06c29",
   "metadata": {},
   "outputs": [
    {
     "data": {
      "text/html": [
       "<div>\n",
       "<style scoped>\n",
       "    .dataframe tbody tr th:only-of-type {\n",
       "        vertical-align: middle;\n",
       "    }\n",
       "\n",
       "    .dataframe tbody tr th {\n",
       "        vertical-align: top;\n",
       "    }\n",
       "\n",
       "    .dataframe thead th {\n",
       "        text-align: right;\n",
       "    }\n",
       "</style>\n",
       "<table border=\"1\" class=\"dataframe\">\n",
       "  <thead>\n",
       "    <tr style=\"text-align: right;\">\n",
       "      <th></th>\n",
       "      <th>1</th>\n",
       "      <th>2</th>\n",
       "      <th>3</th>\n",
       "      <th>4</th>\n",
       "      <th>5</th>\n",
       "      <th>6</th>\n",
       "      <th>7</th>\n",
       "      <th>8</th>\n",
       "      <th>9</th>\n",
       "      <th>10</th>\n",
       "      <th>...</th>\n",
       "      <th>23</th>\n",
       "      <th>24</th>\n",
       "      <th>25</th>\n",
       "      <th>26</th>\n",
       "      <th>27</th>\n",
       "      <th>28</th>\n",
       "      <th>29</th>\n",
       "      <th>30</th>\n",
       "      <th>31</th>\n",
       "      <th>32</th>\n",
       "    </tr>\n",
       "  </thead>\n",
       "  <tbody>\n",
       "    <tr>\n",
       "      <th>count</th>\n",
       "      <td>9835</td>\n",
       "      <td>7676</td>\n",
       "      <td>6033</td>\n",
       "      <td>4734</td>\n",
       "      <td>3729</td>\n",
       "      <td>2874</td>\n",
       "      <td>2229</td>\n",
       "      <td>1684</td>\n",
       "      <td>1246</td>\n",
       "      <td>896</td>\n",
       "      <td>...</td>\n",
       "      <td>14</td>\n",
       "      <td>8</td>\n",
       "      <td>7</td>\n",
       "      <td>7</td>\n",
       "      <td>6</td>\n",
       "      <td>5</td>\n",
       "      <td>4</td>\n",
       "      <td>1</td>\n",
       "      <td>1</td>\n",
       "      <td>1</td>\n",
       "    </tr>\n",
       "    <tr>\n",
       "      <th>unique</th>\n",
       "      <td>158</td>\n",
       "      <td>151</td>\n",
       "      <td>155</td>\n",
       "      <td>153</td>\n",
       "      <td>150</td>\n",
       "      <td>137</td>\n",
       "      <td>138</td>\n",
       "      <td>140</td>\n",
       "      <td>128</td>\n",
       "      <td>120</td>\n",
       "      <td>...</td>\n",
       "      <td>13</td>\n",
       "      <td>7</td>\n",
       "      <td>6</td>\n",
       "      <td>7</td>\n",
       "      <td>5</td>\n",
       "      <td>4</td>\n",
       "      <td>3</td>\n",
       "      <td>1</td>\n",
       "      <td>1</td>\n",
       "      <td>1</td>\n",
       "    </tr>\n",
       "    <tr>\n",
       "      <th>top</th>\n",
       "      <td>sausage</td>\n",
       "      <td>whole milk</td>\n",
       "      <td>whole milk</td>\n",
       "      <td>whole milk</td>\n",
       "      <td>rolls/buns</td>\n",
       "      <td>soda</td>\n",
       "      <td>soda</td>\n",
       "      <td>shopping bags</td>\n",
       "      <td>soda</td>\n",
       "      <td>shopping bags</td>\n",
       "      <td>...</td>\n",
       "      <td>waffles</td>\n",
       "      <td>bottled beer</td>\n",
       "      <td>chocolate</td>\n",
       "      <td>long life bakery product</td>\n",
       "      <td>hygiene articles</td>\n",
       "      <td>napkins</td>\n",
       "      <td>house keeping products</td>\n",
       "      <td>skin care</td>\n",
       "      <td>hygiene articles</td>\n",
       "      <td>candles</td>\n",
       "    </tr>\n",
       "    <tr>\n",
       "      <th>freq</th>\n",
       "      <td>825</td>\n",
       "      <td>654</td>\n",
       "      <td>506</td>\n",
       "      <td>315</td>\n",
       "      <td>176</td>\n",
       "      <td>150</td>\n",
       "      <td>120</td>\n",
       "      <td>76</td>\n",
       "      <td>61</td>\n",
       "      <td>49</td>\n",
       "      <td>...</td>\n",
       "      <td>2</td>\n",
       "      <td>2</td>\n",
       "      <td>2</td>\n",
       "      <td>1</td>\n",
       "      <td>2</td>\n",
       "      <td>2</td>\n",
       "      <td>2</td>\n",
       "      <td>1</td>\n",
       "      <td>1</td>\n",
       "      <td>1</td>\n",
       "    </tr>\n",
       "  </tbody>\n",
       "</table>\n",
       "<p>4 rows × 32 columns</p>\n",
       "</div>"
      ],
      "text/plain": [
       "              1           2           3           4           5     6     7  \\\n",
       "count      9835        7676        6033        4734        3729  2874  2229   \n",
       "unique      158         151         155         153         150   137   138   \n",
       "top     sausage  whole milk  whole milk  whole milk  rolls/buns  soda  soda   \n",
       "freq        825         654         506         315         176   150   120   \n",
       "\n",
       "                    8     9             10  ...       23            24  \\\n",
       "count            1684  1246            896  ...       14             8   \n",
       "unique            140   128            120  ...       13             7   \n",
       "top     shopping bags  soda  shopping bags  ...  waffles  bottled beer   \n",
       "freq               76    61             49  ...        2             2   \n",
       "\n",
       "               25                        26                27       28  \\\n",
       "count           7                         7                 6        5   \n",
       "unique          6                         7                 5        4   \n",
       "top     chocolate  long life bakery product  hygiene articles  napkins   \n",
       "freq            2                         1                 2        2   \n",
       "\n",
       "                            29         30                31       32  \n",
       "count                        4          1                 1        1  \n",
       "unique                       3          1                 1        1  \n",
       "top     house keeping products  skin care  hygiene articles  candles  \n",
       "freq                         2          1                 1        1  \n",
       "\n",
       "[4 rows x 32 columns]"
      ]
     },
     "execution_count": 3,
     "metadata": {},
     "output_type": "execute_result"
    }
   ],
   "source": [
    "df.describe()"
   ]
  },
  {
   "cell_type": "code",
   "execution_count": 3,
   "id": "a10af319",
   "metadata": {},
   "outputs": [
    {
     "data": {
      "text/plain": [
       "(9835, 32)"
      ]
     },
     "execution_count": 3,
     "metadata": {},
     "output_type": "execute_result"
    }
   ],
   "source": [
    "df.shape"
   ]
  },
  {
   "cell_type": "code",
   "execution_count": 4,
   "id": "2e0fe9e2",
   "metadata": {},
   "outputs": [],
   "source": [
    "def get_unique_items(data):\n",
    "    ncol = data.shape[1]\n",
    "    items = set()\n",
    "    for c in range(ncol):\n",
    "        items = items.union(data[:,c])\n",
    "    items = np.array(list(items))\n",
    "    items = items[items != np.array(None)]\n",
    "\n",
    "    return np.unique(items)"
   ]
  },
  {
   "cell_type": "code",
   "execution_count": 5,
   "id": "f6bfe5fe",
   "metadata": {},
   "outputs": [],
   "source": [
    "def get_onehot_items(data,unique_items):\n",
    "    onehot_items = np.zeros((len(data),len(unique_items)),dtype = np.int)\n",
    "    for i, r in enumerate(data):\n",
    "        for j, c in enumerate(unique_items):\n",
    "            onehot_items[i,j] = int(c in r)\n",
    "            \n",
    "    return onehot_items\n"
   ]
  },
  {
   "cell_type": "code",
   "execution_count": 6,
   "id": "0e0815d1",
   "metadata": {},
   "outputs": [],
   "source": [
    "def get_items_from_ohe(ohe,unique_items):\n",
    "    return unique_items[np.flatnonzero(ohe)]"
   ]
  },
  {
   "cell_type": "code",
   "execution_count": 7,
   "id": "b1e7613e",
   "metadata": {},
   "outputs": [],
   "source": [
    "unique_items = get_unique_items(data)\n",
    "onehot_items = np.array(get_onehot_items(data, unique_items))\n",
    "\n",
    "\n",
    "n = 15\n",
    "item_counts = (onehot_items != 0).sum(0)\n",
    "items_max_args = item_counts.argsort()[-n:][::-1]\n",
    "ic = pd.DataFrame({\"Items\":unique_items[items_max_args], \"Frequency\":item_counts[items_max_args]})\n"
   ]
  },
  {
   "cell_type": "code",
   "execution_count": 8,
   "id": "21662a2f",
   "metadata": {},
   "outputs": [
    {
     "data": {
      "image/png": "[encoded data removed]",
      "text/plain": [
       "<Figure size 1152x576 with 1 Axes>"
      ]
     },
     "metadata": {},
     "output_type": "display_data"
    }
   ],
   "source": [
    "fig = plt.figure(figsize = (16,8))\n",
    "sns.barplot(x=\"Items\", y=\"Frequency\", data=ic, palette=sns.color_palette(\"Set2\", 10))\n",
    "plt.xlabel(\"Items\")\n",
    "plt.ylabel(\"Frequency\")\n",
    "plt.title(str(n) + \" Most frequent items in the dataset\")\n",
    "plt.show()"
   ]
  },
  {
   "cell_type": "code",
   "execution_count": 9,
   "id": "ec86ff5c",
   "metadata": {},
   "outputs": [
    {
     "name": "stdout",
     "output_type": "stream",
     "text": [
      "\n"
     ]
    }
   ],
   "source": [
    "train_test_split = np.random.rand(len(onehot_items)) < 0.80\n",
    "train_x = onehot_items[train_test_split]\n",
    "test_x = onehot_items[~train_test_split]\n",
    "print()\n"
   ]
  },
  {
   "cell_type": "code",
   "execution_count": 10,
   "id": "fda3a519",
   "metadata": {},
   "outputs": [],
   "source": [
    "train_validation_split = np.random.rand(len(train_x)) < 0.80\n",
    "validation_x = train_x[~train_validation_split]\n",
    "train_x = train_x[train_validation_split]"
   ]
  },
  {
   "cell_type": "code",
   "execution_count": 11,
   "id": "8bfc14f0",
   "metadata": {},
   "outputs": [],
   "source": [
    "def weight_variable(weight_name, weight_shape):\n",
    "    return tf.get_variable(name = \"weight_\" + weight_name,shape = weight_shape, \n",
    "            initializer = tf.contrib.layers.xavier_initializer()) "
   ]
  },
  {
   "cell_type": "code",
   "execution_count": 12,
   "id": "b22043be",
   "metadata": {},
   "outputs": [],
   "source": [
    "def bias_variable(bias_shape):\n",
    "    initial = tf.constant(0.1, shape = bias_shape)\n",
    "    return tf.Variable(initial)"
   ]
  },
  {
   "cell_type": "code",
   "execution_count": 13,
   "id": "ea731429",
   "metadata": {},
   "outputs": [],
   "source": [
    "def encoder(x):\n",
    "    l1 = tf.nn.softsign(tf.add(tf.matmul(x,e_weights_h1),e_biases_h1))\n",
    "    l2 = tf.nn.softsign(tf.add(tf.matmul(l1,e_weights_h2),e_biases_h2))\n",
    "    l3 = tf.nn.softsign(tf.add(tf.matmul(l2,e_weights_h3),e_biases_h3))\n",
    "    l4 = tf.nn.sigmoid(tf.add(tf.matmul(l3,e_weights_h4),e_biases_h4))\n",
    "    return l4"
   ]
  },
  {
   "cell_type": "code",
   "execution_count": 14,
   "id": "2813f621",
   "metadata": {},
   "outputs": [],
   "source": [
    "def decoder(x):\n",
    "    l1 = tf.nn.softsign(tf.add(tf.matmul(x,d_weights_h1),d_biases_h1))\n",
    "    l2 = tf.nn.softsign(tf.add(tf.matmul(l1,d_weights_h2),d_biases_h2))\n",
    "    l3 = tf.nn.softsign(tf.add(tf.matmul(l2,d_weights_h3),d_biases_h3))\n",
    "    l4 = tf.nn.sigmoid(tf.add(tf.matmul(l3,d_weights_h4),d_biases_h4))\n",
    "    return l4"
   ]
  },
  {
   "cell_type": "markdown",
   "id": "86e4bd6c",
   "metadata": {},
   "source": [
    "#### Terminology"
   ]
  },
  {
   "cell_type": "markdown",
   "id": "31efd5fd",
   "metadata": {},
   "source": [
    "input_dim = 169\n",
    "\n",
    "n_hidden_1 = 128\n",
    "n_hidden_2 = 64\n",
    "n_hidden_3 = 32\n",
    "n_hidden_4 = 16\n",
    "\n",
    "training_epochs = 30\n",
    "batch_size = 50\n",
    "total_batches = (train_x.shape[0] // batch_size)\n",
    "\n",
    "learning_rate = 0.00002\n",
    "keep_prob = 0.6\n",
    "l2_reg_rate = 0.00001\n"
   ]
  },
  {
   "cell_type": "code",
   "execution_count": 15,
   "id": "d2249406",
   "metadata": {},
   "outputs": [],
   "source": [
    "input_dim = 169\n",
    "\n",
    "n_hidden_1 = 128\n",
    "n_hidden_2 = 64\n",
    "n_hidden_3 = 32\n",
    "n_hidden_4 = 16\n",
    "\n",
    "training_epochs = 30\n",
    "batch_size = 50\n",
    "total_batches = (train_x.shape[0] // batch_size)\n",
    "\n",
    "learning_rate = 0.0002 #0.0002\n",
    "keep_prob = 0.8\n",
    "l2_reg_rate = 0.000001"
   ]
  },
  {
   "cell_type": "code",
   "execution_count": 16,
   "id": "9adb5d5f",
   "metadata": {},
   "outputs": [],
   "source": [
    "tf.reset_default_graph()"
   ]
  },
  {
   "cell_type": "code",
   "execution_count": 17,
   "id": "2619c459",
   "metadata": {},
   "outputs": [
    {
     "name": "stdout",
     "output_type": "stream",
     "text": [
      "\n",
      "WARNING: The TensorFlow contrib module will not be included in TensorFlow 2.0.\n",
      "For more information, please see:\n",
      "  * https://github.com/tensorflow/community/blob/master/rfcs/20180907-contrib-sunset.md\n",
      "  * https://github.com/tensorflow/addons\n",
      "If you depend on functionality not listed there, please file an issue.\n",
      "\n",
      "WARNING:tensorflow:From C:\\Users\\Pankaj\\anaconda3\\envs\\Project\\lib\\site-packages\\tensorflow\\python\\keras\\layers\\core.py:143: calling dropout (from tensorflow.python.ops.nn_ops) with keep_prob is deprecated and will be removed in a future version.\n",
      "Instructions for updating:\n",
      "Please use `rate` instead of `keep_prob`. Rate should be set to `rate = 1 - keep_prob`.\n",
      "WARNING:tensorflow:From C:\\Users\\Pankaj\\anaconda3\\envs\\Project\\lib\\site-packages\\tensorflow\\python\\ops\\control_flow_ops.py:423: colocate_with (from tensorflow.python.framework.ops) is deprecated and will be removed in a future version.\n",
      "Instructions for updating:\n",
      "Colocations handled automatically by placer.\n",
      "X_drop Tensor(\"Dropout/cond/Merge:0\", shape=(?, 169), dtype=float32)\n"
     ]
    }
   ],
   "source": [
    "is_training = tf.placeholder_with_default(False, shape = ())\n",
    "X = tf.placeholder(tf.float32, shape=[None,input_dim])\n",
    "X_drop = tf.contrib.layers.dropout(X, keep_prob, is_training = is_training)\n",
    "#X_drop = tf.contrib.layers.dropout(X, keep_prob, noise_shape=None, is_training=True, outputs_collections=None, scope=None, seed=None )\n",
    "print(\"X_drop\", X_drop)"
   ]
  },
  {
   "cell_type": "markdown",
   "id": "14536396",
   "metadata": {},
   "source": [
    "##### --------------------- Encoder Variables --------------- ####"
   ]
  },
  {
   "cell_type": "code",
   "execution_count": 18,
   "id": "b7e5cd6c",
   "metadata": {},
   "outputs": [
    {
     "data": {
      "text/plain": [
       "<tf.Variable 'Variable_3:0' shape=(16,) dtype=float32_ref>"
      ]
     },
     "execution_count": 18,
     "metadata": {},
     "output_type": "execute_result"
    }
   ],
   "source": [
    "e_weights_h1 = weight_variable(\"el1\",[input_dim, n_hidden_1])\n",
    "e_biases_h1 = bias_variable([n_hidden_1])\n",
    "\n",
    "e_weights_h2 = weight_variable(\"el2\",[n_hidden_1, n_hidden_2])\n",
    "e_biases_h2 = bias_variable([n_hidden_2])\n",
    "\n",
    "e_weights_h3 = weight_variable(\"el3\",[n_hidden_2, n_hidden_3])\n",
    "e_biases_h3 = bias_variable([n_hidden_3])\n",
    "\n",
    "e_weights_h4 = weight_variable(\"el4\",[n_hidden_3, n_hidden_4])\n",
    "e_biases_h4 = bias_variable([n_hidden_4])\n",
    "e_biases_h4"
   ]
  },
  {
   "cell_type": "markdown",
   "id": "ec1ed337",
   "metadata": {},
   "source": [
    "\n",
    "\n",
    "#### --------------------- Decoder Variables --------------- ####"
   ]
  },
  {
   "cell_type": "code",
   "execution_count": 19,
   "id": "8ae652f9",
   "metadata": {},
   "outputs": [],
   "source": [
    "d_weights_h1 = weight_variable(\"dl1\",[n_hidden_4, n_hidden_3])\n",
    "d_biases_h1 = bias_variable([n_hidden_3])\n",
    "\n",
    "d_weights_h2 = weight_variable(\"dl2\",[n_hidden_3, n_hidden_2])\n",
    "d_biases_h2 = bias_variable([n_hidden_2])\n",
    "\n",
    "d_weights_h3 = weight_variable(\"dl3\",[n_hidden_2, n_hidden_1])\n",
    "d_biases_h3 = bias_variable([n_hidden_1])\n",
    "\n",
    "d_weights_h4 = weight_variable(\"dl4\",[n_hidden_1, input_dim])\n",
    "d_biases_h4 = bias_variable([input_dim])"
   ]
  },
  {
   "cell_type": "code",
   "execution_count": 20,
   "id": "12d81d76",
   "metadata": {},
   "outputs": [
    {
     "name": "stdout",
     "output_type": "stream",
     "text": [
      "HHHH== Tensor(\"Sigmoid:0\", shape=(?, 16), dtype=float32)\n",
      "MMMM== Tensor(\"Sigmoid_1:0\", shape=(?, 169), dtype=float32)\n"
     ]
    }
   ],
   "source": [
    "encoded = encoder(X_drop)\n",
    "print(\"HHHH==\",encoded)\n",
    "decoded = decoder(encoded)\n",
    "print(\"MMMM==\", decoded) "
   ]
  },
  {
   "cell_type": "code",
   "execution_count": 21,
   "id": "dfcc8635",
   "metadata": {},
   "outputs": [],
   "source": [
    "regularizer = tf.contrib.layers.l2_regularizer(l2_reg_rate)\n",
    "reg_loss = regularizer(e_weights_h1) + regularizer(e_weights_h2) + regularizer(e_weights_h3) + regularizer(e_weights_h4) \n",
    "cost_function = -tf.reduce_mean(((X * tf.log(decoded)) + ((1 - X) * tf.log(1 - decoded)))) + reg_loss\n",
    "\n",
    "optimizer = tf.train.AdamOptimizer(learning_rate).minimize(cost_function)"
   ]
  },
  {
   "cell_type": "code",
   "execution_count": 22,
   "id": "41a5e80c",
   "metadata": {},
   "outputs": [
    {
     "name": "stdout",
     "output_type": "stream",
     "text": [
      "Epoch    Tr. Loss   Val. Loss\n",
      "1 \t 0.22497115   0.22535245\n",
      "2 \t 0.11879839   0.119275674\n",
      "3 \t 0.10681602   0.10719056\n",
      "4 \t 0.10358551   0.10387511\n",
      "5 \t 0.10233594   0.10256155\n",
      "6 \t 0.101754844   0.10193597\n",
      "7 \t 0.10145085   0.1016024\n",
      "8 \t 0.10127689   0.101408936\n",
      "9 \t 0.10116934   0.101288415\n",
      "10 \t 0.10109739   0.101207815\n",
      "11 \t 0.10104249   0.10114759\n",
      "12 \t 0.10095656   0.10106688\n",
      "13 \t 0.09705432   0.09722228\n",
      "14 \t 0.09560334   0.09579666\n",
      "15 \t 0.09503177   0.095214486\n",
      "16 \t 0.09463158   0.09479961\n",
      "17 \t 0.09431613   0.094478086\n",
      "18 \t 0.09408525   0.094234295\n",
      "19 \t 0.093896076   0.094033785\n",
      "20 \t 0.093734905   0.093864016\n",
      "21 \t 0.09358271   0.093707345\n",
      "22 \t 0.093453966   0.09357235\n",
      "23 \t 0.093320325   0.09343537\n",
      "24 \t 0.09318442   0.09330019\n",
      "25 \t 0.09304089   0.09315302\n",
      "26 \t 0.09290644   0.09301836\n",
      "27 \t 0.09275755   0.09287665\n",
      "28 \t 0.092581265   0.09270759\n",
      "29 \t 0.09242584   0.09256386\n",
      "30 \t 0.09227647   0.092428386\n",
      "Training ROC AUC:  0.8372\n",
      "Validation ROC AUC:  0.8422\n",
      "Test ROC AUC:  0.8409 \n",
      "\n",
      "ttt== 1967\n"
     ]
    }
   ],
   "source": [
    "with tf.Session() as session:\n",
    "    Tr_loss=[]\n",
    "    Val_loss=[]\n",
    "    tf.global_variables_initializer().run()\n",
    "    print(\"Epoch\",\"  \",\"Tr. Loss\",\" \",\"Val. Loss\")\n",
    "    for epoch in range(training_epochs):\n",
    "        for b in range(total_batches):\n",
    "            offset = (b * batch_size) % (train_x.shape[0] - batch_size)\n",
    "            batch_x = train_x[offset:(offset + batch_size), :] \n",
    "            _, c = session.run([optimizer, cost_function],feed_dict={X: batch_x, is_training: True})\n",
    "    \n",
    "        tr_c = session.run(cost_function,feed_dict={X: train_x, is_training: False})\n",
    "        val_c = session.run(cost_function,feed_dict={X: validation_x, is_training: False})\n",
    "        print(epoch+1,\"\\t\",tr_c,\" \",val_c)\n",
    "        Tr_loss.append(tr_c)\n",
    "        Val_loss.append(val_c)\n",
    "    \n",
    "    tr_p = session.run(decoded,feed_dict={X: train_x, is_training: False})\n",
    "    roc_auc = roc_auc_score(train_x,tr_p,average = \"samples\")\n",
    "    print(\"Training ROC AUC: \", round(roc_auc,4))\n",
    "\n",
    "    val_p = session.run(decoded,feed_dict={X: validation_x, is_training: False})\n",
    "    roc_auc = roc_auc_score(validation_x,val_p,average = \"samples\")\n",
    "    print(\"Validation ROC AUC: \", round(roc_auc,4))\n",
    "    \n",
    "    ts_p = session.run(decoded,feed_dict={X: test_x, is_training: False})\n",
    "    roc_auc = roc_auc_score(test_x,ts_p,average = \"samples\")\n",
    "    print(\"Test ROC AUC: \", round(roc_auc,4),\"\\n\")\n",
    "    \n",
    "    item_preds = session.run(decoded,feed_dict={X: test_x.reshape(-1,169), is_training: False})\n",
    "    print(\"ttt==\",len(item_preds))\n",
    "    item_preds[item_preds >= 0.05] = 1\n",
    "    item_preds[item_preds < 0.05] = 0\n",
    "    "
   ]
  },
  {
   "cell_type": "code",
   "execution_count": 24,
   "id": "02b7ffb4",
   "metadata": {},
   "outputs": [
    {
     "data": {
      "image/png": "[encoded data removed]",
      "text/plain": [
       "<Figure size 432x288 with 1 Axes>"
      ]
     },
     "metadata": {},
     "output_type": "display_data"
    }
   ],
   "source": [
    "plt.plot(Tr_loss,'b*', Val_loss, 'y*')\n",
    "plt.show()"
   ]
  },
  {
   "cell_type": "code",
   "execution_count": 25,
   "id": "701bafac",
   "metadata": {},
   "outputs": [
    {
     "name": "stdout",
     "output_type": "stream",
     "text": [
      "Frequent item(s):  ['UHT-milk' 'beef' 'bottled beer' 'bottled water' 'brown bread' 'butter'\n",
      " 'canned beer' 'cat food' 'chicken' 'chocolate' 'citrus fruit' 'coffee'\n",
      " 'cream cheese ' 'curd' 'dessert' 'domestic eggs' 'frankfurter'\n",
      " 'frozen vegetables' 'fruit/vegetable juice' 'hamburger meat'\n",
      " 'long life bakery product' 'margarine' 'meat' 'napkins' 'newspapers'\n",
      " 'other vegetables' 'pastry' 'photo/film' 'pip fruit' 'pork' 'rolls/buns'\n",
      " 'root vegetables' 'salty snack' 'sausage' 'shopping bags' 'soda'\n",
      " 'tropical fruit' 'waffles' 'whipped/sour cream' 'white bread'\n",
      " 'whole milk' 'yogurt']\n"
     ]
    }
   ],
   "source": [
    "\"\"\"   \n",
    "i = 100\n",
    "#print(\"Items in basket: \",get_items_from_ohe(test_x[i],unique_items))\n",
    "print(\"Recommended item(s): \",get_items_from_ohe(item_preds[i],unique_items))\n",
    "\"\"\"\n",
    "model = NMF(n_components=100, init='random', random_state=0)\n",
    "transation_w = model.fit_transform(item_preds)\n",
    "items_h = model.components_\n",
    "\n",
    "#get_items_from_ohe(items_h[1],unique_items)\n",
    "\n",
    "print(\"Frequent item(s): \",get_items_from_ohe(items_h[0],unique_items))"
   ]
  },
  {
   "cell_type": "code",
   "execution_count": 26,
   "id": "c50b646e",
   "metadata": {},
   "outputs": [
    {
     "name": "stdout",
     "output_type": "stream",
     "text": [
      "1 {yogurt}=>{whole milk} support=0.06 confidence=0.4 lift=1.57 conviction=1.24\n",
      "2 {yogurt}=>{whole milk} support=0.06 confidence=0.4 lift=1.57 conviction=1.24\n",
      "3 {white wine}=>{white bread} support=0.0 confidence=0.03 lift=0.64 conviction=0.98\n",
      "4 {yogurt}=>{whole milk} support=0.06 confidence=0.4 lift=1.57 conviction=1.24\n",
      "5 {yogurt}=>{whole milk} support=0.06 confidence=0.4 lift=1.57 conviction=1.24\n",
      "6 {yogurt}=>{whole milk} support=0.06 confidence=0.4 lift=1.57 conviction=1.24\n",
      "7 {yogurt}=>{whole milk} support=0.06 confidence=0.4 lift=1.57 conviction=1.24\n",
      "8 {yogurt}=>{white wine} support=0.0 confidence=0.01 lift=0.77 conviction=1.0\n",
      "9 {yogurt}=>{whole milk} support=0.06 confidence=0.4 lift=1.57 conviction=1.24\n",
      "10 {yogurt}=>{white bread} support=0.01 confidence=0.06 lift=1.54 conviction=1.02\n",
      "11 {shopping bags}=>{semi-finished bread} support=0.0 confidence=0.03 lift=1.87 conviction=1.02\n",
      "12 {yogurt}=>{whole milk} support=0.06 confidence=0.4 lift=1.57 conviction=1.24\n",
      "13 {whole milk}=>{whipped/sour cream} support=0.03 confidence=0.13 lift=1.76 conviction=1.06\n",
      "14 {whipped/sour cream}=>{tropical fruit} support=0.01 confidence=0.19 lift=1.84 conviction=1.11\n",
      "15 {yogurt}=>{whole milk} support=0.06 confidence=0.4 lift=1.57 conviction=1.24\n",
      "16 {whole milk}=>{white wine} support=0.0 confidence=0.01 lift=0.54 conviction=0.99\n",
      "17 {yogurt}=>{whole milk} support=0.06 confidence=0.4 lift=1.57 conviction=1.24\n",
      "18 {whole milk}=>{soda} support=0.04 confidence=0.16 lift=0.9 conviction=0.98\n",
      "19 {yogurt}=>{whole milk} support=0.06 confidence=0.4 lift=1.57 conviction=1.24\n",
      "20 {yogurt}=>{whole milk} support=0.06 confidence=0.4 lift=1.57 conviction=1.24\n",
      "21 {yogurt}=>{white bread} support=0.01 confidence=0.06 lift=1.54 conviction=1.02\n",
      "22 {whole milk}=>{soda} support=0.04 confidence=0.16 lift=0.9 conviction=0.98\n",
      "23 {yogurt}=>{whole milk} support=0.06 confidence=0.4 lift=1.57 conviction=1.24\n",
      "24 {yogurt}=>{whole milk} support=0.06 confidence=0.4 lift=1.57 conviction=1.24\n",
      "25 {yogurt}=>{whole milk} support=0.06 confidence=0.4 lift=1.57 conviction=1.24\n",
      "26 {yogurt}=>{whole milk} support=0.06 confidence=0.4 lift=1.57 conviction=1.24\n",
      "27 {yogurt}=>{whole milk} support=0.06 confidence=0.4 lift=1.57 conviction=1.24\n",
      "28 {yogurt}=>{whole milk} support=0.06 confidence=0.4 lift=1.57 conviction=1.24\n",
      "29 {whole milk}=>{white wine} support=0.0 confidence=0.01 lift=0.54 conviction=0.99\n",
      "30 {yogurt}=>{whole milk} support=0.06 confidence=0.4 lift=1.57 conviction=1.24\n",
      "31 {yogurt}=>{whole milk} support=0.06 confidence=0.4 lift=1.57 conviction=1.24\n",
      "32 {yogurt}=>{whole milk} support=0.06 confidence=0.4 lift=1.57 conviction=1.24\n",
      "33 {yogurt}=>{whole milk} support=0.06 confidence=0.4 lift=1.57 conviction=1.24\n",
      "34 {yogurt}=>{whole milk} support=0.06 confidence=0.4 lift=1.57 conviction=1.24\n",
      "35 {yogurt}=>{whole milk} support=0.06 confidence=0.4 lift=1.57 conviction=1.24\n",
      "36 {whole milk}=>{white wine} support=0.0 confidence=0.01 lift=0.54 conviction=0.99\n",
      "37 {yogurt}=>{whole milk} support=0.06 confidence=0.4 lift=1.57 conviction=1.24\n",
      "38 {yogurt}=>{whole milk} support=0.06 confidence=0.4 lift=1.57 conviction=1.24\n",
      "39 {yogurt}=>{whole milk} support=0.06 confidence=0.4 lift=1.57 conviction=1.24\n",
      "40 {yogurt}=>{whole milk} support=0.06 confidence=0.4 lift=1.57 conviction=1.24\n",
      "41 {yogurt}=>{whole milk} support=0.06 confidence=0.4 lift=1.57 conviction=1.24\n",
      "42 {yogurt}=>{whole milk} support=0.06 confidence=0.4 lift=1.57 conviction=1.24\n",
      "43 {yogurt}=>{whole milk} support=0.06 confidence=0.4 lift=1.57 conviction=1.24\n",
      "44 {whole milk}=>{white wine} support=0.0 confidence=0.01 lift=0.54 conviction=0.99\n",
      "45 {whole milk}=>{waffles} support=0.01 confidence=0.05 lift=1.29 conviction=1.01\n",
      "46 {yogurt}=>{whole milk} support=0.06 confidence=0.4 lift=1.57 conviction=1.24\n",
      "47 {whole milk}=>{white wine} support=0.0 confidence=0.01 lift=0.54 conviction=0.99\n",
      "48 {yogurt}=>{whole milk} support=0.06 confidence=0.4 lift=1.57 conviction=1.24\n",
      "49 {yogurt}=>{whole milk} support=0.06 confidence=0.4 lift=1.57 conviction=1.24\n",
      "50 {yogurt}=>{whole milk} support=0.06 confidence=0.4 lift=1.57 conviction=1.24\n",
      "51 {yogurt}=>{whole milk} support=0.06 confidence=0.4 lift=1.57 conviction=1.24\n",
      "52 {yogurt}=>{whipped/sour cream} support=0.02 confidence=0.15 lift=2.07 conviction=1.09\n",
      "53 {whole milk}=>{tropical fruit} support=0.04 confidence=0.17 lift=1.58 conviction=1.07\n",
      "54 {whole milk}=>{sugar} support=0.02 confidence=0.06 lift=1.74 conviction=1.03\n",
      "55 {yogurt}=>{whole milk} support=0.06 confidence=0.4 lift=1.57 conviction=1.24\n",
      "56 {yogurt}=>{whole milk} support=0.06 confidence=0.4 lift=1.57 conviction=1.24\n",
      "57 {whole milk}=>{soda} support=0.04 confidence=0.16 lift=0.9 conviction=0.98\n",
      "58 {yogurt}=>{whole milk} support=0.06 confidence=0.4 lift=1.57 conviction=1.24\n",
      "59 {yogurt}=>{whole milk} support=0.06 confidence=0.4 lift=1.57 conviction=1.24\n",
      "60 {yogurt}=>{whole milk} support=0.06 confidence=0.4 lift=1.57 conviction=1.24\n",
      "61 {yogurt}=>{whole milk} support=0.06 confidence=0.4 lift=1.57 conviction=1.24\n",
      "62 {yogurt}=>{whole milk} support=0.06 confidence=0.4 lift=1.57 conviction=1.24\n",
      "63 {yogurt}=>{whole milk} support=0.06 confidence=0.4 lift=1.57 conviction=1.24\n",
      "64 {yogurt}=>{whole milk} support=0.06 confidence=0.4 lift=1.57 conviction=1.24\n",
      "65 {yogurt}=>{whole milk} support=0.06 confidence=0.4 lift=1.57 conviction=1.24\n",
      "66 {yogurt}=>{whole milk} support=0.06 confidence=0.4 lift=1.57 conviction=1.24\n",
      "67 {yogurt}=>{whole milk} support=0.06 confidence=0.4 lift=1.57 conviction=1.24\n",
      "68 {yogurt}=>{whole milk} support=0.06 confidence=0.4 lift=1.57 conviction=1.24\n",
      "69 {yogurt}=>{whole milk} support=0.06 confidence=0.4 lift=1.57 conviction=1.24\n",
      "70 {yogurt}=>{whole milk} support=0.06 confidence=0.4 lift=1.57 conviction=1.24\n",
      "71 {yogurt}=>{whole milk} support=0.06 confidence=0.4 lift=1.57 conviction=1.24\n",
      "72 {yogurt}=>{whole milk} support=0.06 confidence=0.4 lift=1.57 conviction=1.24\n",
      "73 {yogurt}=>{whole milk} support=0.06 confidence=0.4 lift=1.57 conviction=1.24\n",
      "74 {yogurt}=>{whole milk} support=0.06 confidence=0.4 lift=1.57 conviction=1.24\n",
      "75 {whole milk}=>{white bread} support=0.02 confidence=0.07 lift=1.59 conviction=1.03\n",
      "76 {yogurt}=>{whole milk} support=0.06 confidence=0.4 lift=1.57 conviction=1.24\n",
      "77 {whole milk}=>{whipped/sour cream} support=0.03 confidence=0.13 lift=1.76 conviction=1.06\n",
      "78 {yogurt}=>{whole milk} support=0.06 confidence=0.4 lift=1.57 conviction=1.24\n",
      "79 {yogurt}=>{whole milk} support=0.06 confidence=0.4 lift=1.57 conviction=1.24\n",
      "80 {yogurt}=>{whole milk} support=0.06 confidence=0.4 lift=1.57 conviction=1.24\n",
      "81 {whole milk}=>{soda} support=0.04 confidence=0.16 lift=0.9 conviction=0.98\n",
      "82 {yogurt}=>{whole milk} support=0.06 confidence=0.4 lift=1.57 conviction=1.24\n",
      "83 {whole milk}=>{soda} support=0.04 confidence=0.16 lift=0.9 conviction=0.98\n",
      "84 {yogurt}=>{whole milk} support=0.06 confidence=0.4 lift=1.57 conviction=1.24\n",
      "85 {yogurt}=>{whole milk} support=0.06 confidence=0.4 lift=1.57 conviction=1.24\n",
      "86 {whole milk}=>{soda} support=0.04 confidence=0.16 lift=0.9 conviction=0.98\n",
      "87 {whole milk}=>{white wine} support=0.0 confidence=0.01 lift=0.54 conviction=0.99\n",
      "88 {whole milk}=>{white bread} support=0.02 confidence=0.07 lift=1.59 conviction=1.03\n",
      "89 {yogurt}=>{whole milk} support=0.06 confidence=0.4 lift=1.57 conviction=1.24\n",
      "90 {yogurt}=>{whole milk} support=0.06 confidence=0.4 lift=1.57 conviction=1.24\n",
      "91 {yogurt}=>{whole milk} support=0.06 confidence=0.4 lift=1.57 conviction=1.24\n",
      "92 {yogurt}=>{whole milk} support=0.06 confidence=0.4 lift=1.57 conviction=1.24\n",
      "93 {yogurt}=>{whole milk} support=0.06 confidence=0.4 lift=1.57 conviction=1.24\n",
      "94 {yogurt}=>{whole milk} support=0.06 confidence=0.4 lift=1.57 conviction=1.24\n",
      "95 {yogurt}=>{whole milk} support=0.06 confidence=0.4 lift=1.57 conviction=1.24\n",
      "96 {yogurt}=>{white bread} support=0.01 confidence=0.06 lift=1.54 conviction=1.02\n",
      "97 {yogurt}=>{whole milk} support=0.06 confidence=0.4 lift=1.57 conviction=1.24\n",
      "98 {yogurt}=>{whole milk} support=0.06 confidence=0.4 lift=1.57 conviction=1.24\n",
      "99 {yogurt}=>{whole milk} support=0.06 confidence=0.4 lift=1.57 conviction=1.24\n",
      "100 {yogurt}=>{whole milk} support=0.06 confidence=0.4 lift=1.57 conviction=1.24\n"
     ]
    }
   ],
   "source": [
    "total_transection=9835\n",
    "for i in range(100):\n",
    "    xx=np.asarray(np.nonzero(items_h[i]))\n",
    "    [m,n]=(np.asarray(np.nonzero(items_h[i]))).shape\n",
    "    support_A_B=len(np.intersect1d(np.nonzero(onehot_items[:,xx[0,n-1]]),np.nonzero(onehot_items[:,xx[0,n-2]])))/total_transection\n",
    "    #print(\"{\" + str(unique_items[xx[0,n-1]]) + \"}\" +\"=>\" \"{\" + str(unique_items[xx[0,n-2]]) + \"}\")\n",
    "    [xxxx,sup_A]=(np.asarray(np.nonzero(onehot_items[:,xx[0,n-1]]))).shape\n",
    "    [xxxx,sup_B]=(np.asarray(np.nonzero(onehot_items[:,xx[0,n-2]]))).shape\n",
    "    support_A=sup_A/total_transection\n",
    "    support_B=sup_B/total_transection\n",
    "    confidence_A_B=support_A_B / (support_A)\n",
    "    confidence_B_A=support_A_B / (support_B)\n",
    "    #lift and conviction\n",
    "    lift_A_B=confidence_A_B / support_B\n",
    "    conviction_A_B=(1-support_B)/(1-confidence_A_B)\n",
    "    print(i+1, \"{\" + str(unique_items[xx[0,n-1]]) + \"}\" +\"=>\" \"{\" + str(unique_items[xx[0,n-2]]) + \"}\"+\" \"+ \"support=\"+ str(round(support_A_B,2)) +\" \"+ \"confidence=\" + str(round(confidence_A_B,2))  +\" \"+ \"lift=\" + str(round(lift_A_B,2))  +\" \"+ \"conviction=\" + str(round(conviction_A_B,2)) )\n"
   ]
  },
  {
   "cell_type": "code",
   "execution_count": 50,
   "id": "61e96725",
   "metadata": {},
   "outputs": [
    {
     "ename": "IndentationError",
     "evalue": "unexpected indent (<ipython-input-50-24ff34a3f6b2>, line 7)",
     "output_type": "error",
     "traceback": [
      "\u001b[1;36m  File \u001b[1;32m\"<ipython-input-50-24ff34a3f6b2>\"\u001b[1;36m, line \u001b[1;32m7\u001b[0m\n\u001b[1;33m    result_ann = pd.concat([result_ann, temp])\u001b[0m\n\u001b[1;37m    ^\u001b[0m\n\u001b[1;31mIndentationError\u001b[0m\u001b[1;31m:\u001b[0m unexpected indent\n"
     ]
    }
   ],
   "source": [
    "#antecedents=[]\n",
    "#consequents=[]\n",
    "antecedents=str(unique_items[xx[0,n-1]])\n",
    "consequents=str(unique_items[xx[0,n-2]])\n",
    "\n",
    "temp = pd.DataFrame({'Support': str(round(support_A_B,2)), 'Confidence': str(round(confidence_A_B,2)), 'Lift': str(round(lift_A_B,2)), 'Conviction':str(round(conviction_A_B,2)) })\n",
    "    result_ann = pd.concat([result_ann, temp])\n",
    "\n",
    "result_ann.to_csv(\"result_ann.csv\", sep=',') "
   ]
  },
  {
   "cell_type": "code",
   "execution_count": 51,
   "id": "c8bc5b89",
   "metadata": {},
   "outputs": [
    {
     "ename": "SyntaxError",
     "evalue": "invalid syntax (<ipython-input-51-920f45656b82>, line 3)",
     "output_type": "error",
     "traceback": [
      "\u001b[1;36m  File \u001b[1;32m\"<ipython-input-51-920f45656b82>\"\u001b[1;36m, line \u001b[1;32m3\u001b[0m\n\u001b[1;33m    file = open('odd.csv', 'w+', newline ='')\u001b[0m\n\u001b[1;37m       ^\u001b[0m\n\u001b[1;31mSyntaxError\u001b[0m\u001b[1;31m:\u001b[0m invalid syntax\n"
     ]
    }
   ],
   "source": [
    "import csv \n",
    "data = [[(antecedents)], [(consequents)], [str(round(support_A_B,2))], [str(round(confidence_A_B,2))],[str(round(lift_A_B,2))],[str(round(conviction_A_B,2))] \n",
    "file = open('odd.csv', 'w+', newline ='') \n",
    "with file:     \n",
    "    write = csv.writer(file) \n",
    "    #write.writerows(data) "
   ]
  },
  {
   "cell_type": "code",
   "execution_count": 52,
   "id": "a9004abb",
   "metadata": {},
   "outputs": [
    {
     "name": "stdout",
     "output_type": "stream",
     "text": [
      "Time consumed in working:  2420.399659395218\n"
     ]
    }
   ],
   "source": [
    "end = time.time()\n",
    "print(\"Time consumed in working: \",end - start)"
   ]
  },
  {
   "cell_type": "code",
   "execution_count": 53,
   "id": "93993133",
   "metadata": {},
   "outputs": [
    {
     "ename": "ValueError",
     "evalue": "If using all scalar values, you must pass an index",
     "output_type": "error",
     "traceback": [
      "\u001b[1;31m---------------------------------------------------------------------------\u001b[0m",
      "\u001b[1;31mValueError\u001b[0m                                Traceback (most recent call last)",
      "\u001b[1;32m<ipython-input-53-b8f3b3e2cca2>\u001b[0m in \u001b[0;36m<module>\u001b[1;34m\u001b[0m\n\u001b[0;32m      1\u001b[0m \u001b[0mtemp\u001b[0m \u001b[1;33m=\u001b[0m \u001b[1;33m{\u001b[0m\u001b[1;34m'Support'\u001b[0m\u001b[1;33m:\u001b[0m \u001b[0mstr\u001b[0m\u001b[1;33m(\u001b[0m\u001b[0mround\u001b[0m\u001b[1;33m(\u001b[0m\u001b[0msupport_A_B\u001b[0m\u001b[1;33m,\u001b[0m\u001b[1;36m2\u001b[0m\u001b[1;33m)\u001b[0m\u001b[1;33m)\u001b[0m\u001b[1;33m,\u001b[0m \u001b[1;34m'Confidence'\u001b[0m\u001b[1;33m:\u001b[0m \u001b[0mstr\u001b[0m\u001b[1;33m(\u001b[0m\u001b[0mround\u001b[0m\u001b[1;33m(\u001b[0m\u001b[0mconfidence_A_B\u001b[0m\u001b[1;33m,\u001b[0m\u001b[1;36m2\u001b[0m\u001b[1;33m)\u001b[0m\u001b[1;33m)\u001b[0m\u001b[1;33m,\u001b[0m \u001b[1;34m'Lift'\u001b[0m\u001b[1;33m:\u001b[0m \u001b[0mstr\u001b[0m\u001b[1;33m(\u001b[0m\u001b[0mround\u001b[0m\u001b[1;33m(\u001b[0m\u001b[0mlift_A_B\u001b[0m\u001b[1;33m,\u001b[0m\u001b[1;36m2\u001b[0m\u001b[1;33m)\u001b[0m\u001b[1;33m)\u001b[0m\u001b[1;33m,\u001b[0m \u001b[1;34m'Conviction'\u001b[0m\u001b[1;33m:\u001b[0m\u001b[0mstr\u001b[0m\u001b[1;33m(\u001b[0m\u001b[0mround\u001b[0m\u001b[1;33m(\u001b[0m\u001b[0mconviction_A_B\u001b[0m\u001b[1;33m,\u001b[0m\u001b[1;36m2\u001b[0m\u001b[1;33m)\u001b[0m\u001b[1;33m)\u001b[0m \u001b[1;33m}\u001b[0m\u001b[1;33m\u001b[0m\u001b[1;33m\u001b[0m\u001b[0m\n\u001b[1;32m----> 2\u001b[1;33m \u001b[0mdataframe\u001b[0m \u001b[1;33m=\u001b[0m \u001b[0mpd\u001b[0m\u001b[1;33m.\u001b[0m\u001b[0mDataFrame\u001b[0m\u001b[1;33m(\u001b[0m\u001b[0mtemp\u001b[0m\u001b[1;33m)\u001b[0m\u001b[1;33m\u001b[0m\u001b[1;33m\u001b[0m\u001b[0m\n\u001b[0m\u001b[0;32m      3\u001b[0m \u001b[0mdataframe\u001b[0m\u001b[1;33m.\u001b[0m\u001b[0mto_csv\u001b[0m\u001b[1;33m(\u001b[0m\u001b[1;34m'result_ann.csv'\u001b[0m\u001b[1;33m)\u001b[0m\u001b[1;33m\u001b[0m\u001b[1;33m\u001b[0m\u001b[0m\n",
      "\u001b[1;32m~\\anaconda3\\envs\\Project\\lib\\site-packages\\pandas\\core\\frame.py\u001b[0m in \u001b[0;36m__init__\u001b[1;34m(self, data, index, columns, dtype, copy)\u001b[0m\n\u001b[0;32m    408\u001b[0m             )\n\u001b[0;32m    409\u001b[0m         \u001b[1;32melif\u001b[0m \u001b[0misinstance\u001b[0m\u001b[1;33m(\u001b[0m\u001b[0mdata\u001b[0m\u001b[1;33m,\u001b[0m \u001b[0mdict\u001b[0m\u001b[1;33m)\u001b[0m\u001b[1;33m:\u001b[0m\u001b[1;33m\u001b[0m\u001b[1;33m\u001b[0m\u001b[0m\n\u001b[1;32m--> 410\u001b[1;33m             \u001b[0mmgr\u001b[0m \u001b[1;33m=\u001b[0m \u001b[0minit_dict\u001b[0m\u001b[1;33m(\u001b[0m\u001b[0mdata\u001b[0m\u001b[1;33m,\u001b[0m \u001b[0mindex\u001b[0m\u001b[1;33m,\u001b[0m \u001b[0mcolumns\u001b[0m\u001b[1;33m,\u001b[0m \u001b[0mdtype\u001b[0m\u001b[1;33m=\u001b[0m\u001b[0mdtype\u001b[0m\u001b[1;33m)\u001b[0m\u001b[1;33m\u001b[0m\u001b[1;33m\u001b[0m\u001b[0m\n\u001b[0m\u001b[0;32m    411\u001b[0m         \u001b[1;32melif\u001b[0m \u001b[0misinstance\u001b[0m\u001b[1;33m(\u001b[0m\u001b[0mdata\u001b[0m\u001b[1;33m,\u001b[0m \u001b[0mma\u001b[0m\u001b[1;33m.\u001b[0m\u001b[0mMaskedArray\u001b[0m\u001b[1;33m)\u001b[0m\u001b[1;33m:\u001b[0m\u001b[1;33m\u001b[0m\u001b[1;33m\u001b[0m\u001b[0m\n\u001b[0;32m    412\u001b[0m             \u001b[1;32mimport\u001b[0m \u001b[0mnumpy\u001b[0m\u001b[1;33m.\u001b[0m\u001b[0mma\u001b[0m\u001b[1;33m.\u001b[0m\u001b[0mmrecords\u001b[0m \u001b[1;32mas\u001b[0m \u001b[0mmrecords\u001b[0m\u001b[1;33m\u001b[0m\u001b[1;33m\u001b[0m\u001b[0m\n",
      "\u001b[1;32m~\\anaconda3\\envs\\Project\\lib\\site-packages\\pandas\\core\\internals\\construction.py\u001b[0m in \u001b[0;36minit_dict\u001b[1;34m(data, index, columns, dtype)\u001b[0m\n\u001b[0;32m    255\u001b[0m             \u001b[0marr\u001b[0m \u001b[1;32mif\u001b[0m \u001b[1;32mnot\u001b[0m \u001b[0mis_datetime64tz_dtype\u001b[0m\u001b[1;33m(\u001b[0m\u001b[0marr\u001b[0m\u001b[1;33m)\u001b[0m \u001b[1;32melse\u001b[0m \u001b[0marr\u001b[0m\u001b[1;33m.\u001b[0m\u001b[0mcopy\u001b[0m\u001b[1;33m(\u001b[0m\u001b[1;33m)\u001b[0m \u001b[1;32mfor\u001b[0m \u001b[0marr\u001b[0m \u001b[1;32min\u001b[0m \u001b[0marrays\u001b[0m\u001b[1;33m\u001b[0m\u001b[1;33m\u001b[0m\u001b[0m\n\u001b[0;32m    256\u001b[0m         ]\n\u001b[1;32m--> 257\u001b[1;33m     \u001b[1;32mreturn\u001b[0m \u001b[0marrays_to_mgr\u001b[0m\u001b[1;33m(\u001b[0m\u001b[0marrays\u001b[0m\u001b[1;33m,\u001b[0m \u001b[0mdata_names\u001b[0m\u001b[1;33m,\u001b[0m \u001b[0mindex\u001b[0m\u001b[1;33m,\u001b[0m \u001b[0mcolumns\u001b[0m\u001b[1;33m,\u001b[0m \u001b[0mdtype\u001b[0m\u001b[1;33m=\u001b[0m\u001b[0mdtype\u001b[0m\u001b[1;33m)\u001b[0m\u001b[1;33m\u001b[0m\u001b[1;33m\u001b[0m\u001b[0m\n\u001b[0m\u001b[0;32m    258\u001b[0m \u001b[1;33m\u001b[0m\u001b[0m\n\u001b[0;32m    259\u001b[0m \u001b[1;33m\u001b[0m\u001b[0m\n",
      "\u001b[1;32m~\\anaconda3\\envs\\Project\\lib\\site-packages\\pandas\\core\\internals\\construction.py\u001b[0m in \u001b[0;36marrays_to_mgr\u001b[1;34m(arrays, arr_names, index, columns, dtype)\u001b[0m\n\u001b[0;32m     75\u001b[0m     \u001b[1;31m# figure out the index, if necessary\u001b[0m\u001b[1;33m\u001b[0m\u001b[1;33m\u001b[0m\u001b[1;33m\u001b[0m\u001b[0m\n\u001b[0;32m     76\u001b[0m     \u001b[1;32mif\u001b[0m \u001b[0mindex\u001b[0m \u001b[1;32mis\u001b[0m \u001b[1;32mNone\u001b[0m\u001b[1;33m:\u001b[0m\u001b[1;33m\u001b[0m\u001b[1;33m\u001b[0m\u001b[0m\n\u001b[1;32m---> 77\u001b[1;33m         \u001b[0mindex\u001b[0m \u001b[1;33m=\u001b[0m \u001b[0mextract_index\u001b[0m\u001b[1;33m(\u001b[0m\u001b[0marrays\u001b[0m\u001b[1;33m)\u001b[0m\u001b[1;33m\u001b[0m\u001b[1;33m\u001b[0m\u001b[0m\n\u001b[0m\u001b[0;32m     78\u001b[0m     \u001b[1;32melse\u001b[0m\u001b[1;33m:\u001b[0m\u001b[1;33m\u001b[0m\u001b[1;33m\u001b[0m\u001b[0m\n\u001b[0;32m     79\u001b[0m         \u001b[0mindex\u001b[0m \u001b[1;33m=\u001b[0m \u001b[0mensure_index\u001b[0m\u001b[1;33m(\u001b[0m\u001b[0mindex\u001b[0m\u001b[1;33m)\u001b[0m\u001b[1;33m\u001b[0m\u001b[1;33m\u001b[0m\u001b[0m\n",
      "\u001b[1;32m~\\anaconda3\\envs\\Project\\lib\\site-packages\\pandas\\core\\internals\\construction.py\u001b[0m in \u001b[0;36mextract_index\u001b[1;34m(data)\u001b[0m\n\u001b[0;32m    356\u001b[0m \u001b[1;33m\u001b[0m\u001b[0m\n\u001b[0;32m    357\u001b[0m         \u001b[1;32mif\u001b[0m \u001b[1;32mnot\u001b[0m \u001b[0mindexes\u001b[0m \u001b[1;32mand\u001b[0m \u001b[1;32mnot\u001b[0m \u001b[0mraw_lengths\u001b[0m\u001b[1;33m:\u001b[0m\u001b[1;33m\u001b[0m\u001b[1;33m\u001b[0m\u001b[0m\n\u001b[1;32m--> 358\u001b[1;33m             \u001b[1;32mraise\u001b[0m \u001b[0mValueError\u001b[0m\u001b[1;33m(\u001b[0m\u001b[1;34m\"If using all scalar values, you must pass an index\"\u001b[0m\u001b[1;33m)\u001b[0m\u001b[1;33m\u001b[0m\u001b[1;33m\u001b[0m\u001b[0m\n\u001b[0m\u001b[0;32m    359\u001b[0m \u001b[1;33m\u001b[0m\u001b[0m\n\u001b[0;32m    360\u001b[0m         \u001b[1;32mif\u001b[0m \u001b[0mhave_series\u001b[0m\u001b[1;33m:\u001b[0m\u001b[1;33m\u001b[0m\u001b[1;33m\u001b[0m\u001b[0m\n",
      "\u001b[1;31mValueError\u001b[0m: If using all scalar values, you must pass an index"
     ]
    }
   ],
   "source": [
    "temp = {'Support': str(round(support_A_B,2)), 'Confidence': str(round(confidence_A_B,2)), 'Lift': str(round(lift_A_B,2)), 'Conviction':str(round(conviction_A_B,2)) }\n",
    "dataframe = pd.DataFrame(temp) \n",
    "dataframe.to_csv('result_ann.csv')"
   ]
  },
  {
   "cell_type": "code",
   "execution_count": 55,
   "id": "317f207f",
   "metadata": {},
   "outputs": [
    {
     "data": {
      "text/plain": [
       "'1.24'"
      ]
     },
     "execution_count": 55,
     "metadata": {},
     "output_type": "execute_result"
    }
   ],
   "source": []
  },
  {
   "cell_type": "code",
   "execution_count": null,
   "id": "5453b47b",
   "metadata": {},
   "outputs": [],
   "source": []
  }
 ],
 "metadata": {
  "kernelspec": {
   "display_name": "Python 3",
   "language": "python",
   "name": "python3"
  },
  "language_info": {
   "codemirror_mode": {
    "name": "ipython",
    "version": 3
   },
   "file_extension": ".py",
   "mimetype": "text/x-python",
   "name": "python",
   "nbconvert_exporter": "python",
   "pygments_lexer": "ipython3",
   "version": "3.6.13"
  }
 },
 "nbformat": 4,
 "nbformat_minor": 5
}
